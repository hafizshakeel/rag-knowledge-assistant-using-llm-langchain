{
 "cells": [
  {
   "cell_type": "code",
   "execution_count": 2,
   "id": "50120752",
   "metadata": {},
   "outputs": [],
   "source": [
    "import pandas\n",
    "pandas.set_option('display.max_colwidth', 100)"
   ]
  },
  {
   "cell_type": "code",
   "execution_count": 3,
   "id": "564ac45f",
   "metadata": {},
   "outputs": [
    {
     "data": {
      "text/plain": [
       "(50, 2)"
      ]
     },
     "execution_count": 3,
     "metadata": {},
     "output_type": "execute_result"
    }
   ],
   "source": [
    "df = pandas.read_csv(\"../data/sample.csv\")\n",
    "df.shape"
   ]
  },
  {
   "cell_type": "code",
   "execution_count": 4,
   "id": "3eadc5a4",
   "metadata": {},
   "outputs": [
    {
     "data": {
      "text/html": [
       "<div>\n",
       "<style scoped>\n",
       "    .dataframe tbody tr th:only-of-type {\n",
       "        vertical-align: middle;\n",
       "    }\n",
       "\n",
       "    .dataframe tbody tr th {\n",
       "        vertical-align: top;\n",
       "    }\n",
       "\n",
       "    .dataframe thead th {\n",
       "        text-align: right;\n",
       "    }\n",
       "</style>\n",
       "<table border=\"1\" class=\"dataframe\">\n",
       "  <thead>\n",
       "    <tr style=\"text-align: right;\">\n",
       "      <th></th>\n",
       "      <th>text</th>\n",
       "      <th>category</th>\n",
       "    </tr>\n",
       "  </thead>\n",
       "  <tbody>\n",
       "    <tr>\n",
       "      <th>0</th>\n",
       "      <td>Meditation apps are gaining popularity among students</td>\n",
       "      <td>Health</td>\n",
       "    </tr>\n",
       "    <tr>\n",
       "      <th>1</th>\n",
       "      <td>Regular morning walks can help reduce stress levels</td>\n",
       "      <td>Health</td>\n",
       "    </tr>\n",
       "    <tr>\n",
       "      <th>2</th>\n",
       "      <td>Doctors recommend balanced diets for heart patients</td>\n",
       "      <td>Health</td>\n",
       "    </tr>\n",
       "    <tr>\n",
       "      <th>3</th>\n",
       "      <td>Yoga retreats are attracting working professionals</td>\n",
       "      <td>Health</td>\n",
       "    </tr>\n",
       "    <tr>\n",
       "      <th>4</th>\n",
       "      <td>A new skincare brand launched its eco-friendly range</td>\n",
       "      <td>Fashion</td>\n",
       "    </tr>\n",
       "  </tbody>\n",
       "</table>\n",
       "</div>"
      ],
      "text/plain": [
       "                                                    text category\n",
       "0  Meditation apps are gaining popularity among students   Health\n",
       "1    Regular morning walks can help reduce stress levels   Health\n",
       "2    Doctors recommend balanced diets for heart patients   Health\n",
       "3     Yoga retreats are attracting working professionals   Health\n",
       "4   A new skincare brand launched its eco-friendly range  Fashion"
      ]
     },
     "execution_count": 4,
     "metadata": {},
     "output_type": "execute_result"
    }
   ],
   "source": [
    "df.head()"
   ]
  },
  {
   "cell_type": "code",
   "execution_count": 5,
   "id": "f44a6662",
   "metadata": {},
   "outputs": [
    {
     "name": "stderr",
     "output_type": "stream",
     "text": [
      "c:\\ProgramData\\anaconda3\\envs\\chatbot\\Lib\\site-packages\\tqdm\\auto.py:21: TqdmWarning: IProgress not found. Please update jupyter and ipywidgets. See https://ipywidgets.readthedocs.io/en/stable/user_install.html\n",
      "  from .autonotebook import tqdm as notebook_tqdm\n",
      "Xet Storage is enabled for this repo, but the 'hf_xet' package is not installed. Falling back to regular HTTP download. For better performance, install the package with: `pip install huggingface_hub[hf_xet]` or `pip install hf_xet`\n"
     ]
    }
   ],
   "source": [
    "# create embeddings from the text column\n",
    "from sentence_transformers import SentenceTransformer\n",
    "\n",
    "model = \"sentence-transformers/all-MiniLM-L6-v2\"\n",
    "encoder = SentenceTransformer(model)\n",
    "vectors = encoder.encode(df.text)"
   ]
  },
  {
   "cell_type": "code",
   "execution_count": 6,
   "id": "abe4fff9",
   "metadata": {},
   "outputs": [
    {
     "data": {
      "text/plain": [
       "(50, 384)"
      ]
     },
     "execution_count": 6,
     "metadata": {},
     "output_type": "execute_result"
    }
   ],
   "source": [
    "vectors.shape"
   ]
  },
  {
   "cell_type": "code",
   "execution_count": 8,
   "id": "6b989801",
   "metadata": {},
   "outputs": [],
   "source": [
    "import chromadb\n",
    "\n",
    "# In-memory client (everything stored in RAM)\n",
    "client = chromadb.Client()\n",
    "\n",
    "# Create or get collection\n",
    "collection = client.create_collection(name=\"news_collection\")\n"
   ]
  },
  {
   "cell_type": "code",
   "execution_count": 9,
   "id": "c7656f49",
   "metadata": {},
   "outputs": [
    {
     "name": "stdout",
     "output_type": "stream",
     "text": [
      "Added 50 documents to ChromaDB\n"
     ]
    }
   ],
   "source": [
    "# Add documents + embeddings\n",
    "\n",
    "# Each row must have a unique ID (strings required)\n",
    "ids = [str(i) for i in range(len(df))]\n",
    "\n",
    "collection.add(\n",
    "    ids=ids,\n",
    "    embeddings=vectors.tolist(),\n",
    "    documents=df[\"text\"].tolist(),\n",
    "    metadatas=[{\"category\": c} for c in df[\"category\"]]\n",
    ")\n",
    "\n",
    "print(f\"Added {collection.count()} documents to ChromaDB\")"
   ]
  },
  {
   "cell_type": "code",
   "execution_count": 10,
   "id": "a6c824f4",
   "metadata": {},
   "outputs": [
    {
     "name": "stdout",
     "output_type": "stream",
     "text": [
      "Query: What are the benefits of doing regular exercise?\n",
      "-> Cycling is being promoted as a healthy lifestyle [Health]\n",
      "-> Tokyo Olympics inspired new fitness programs [Sports]\n",
      "-> Regular morning walks can help reduce stress levels [Health]\n"
     ]
    }
   ],
   "source": [
    "# Query Chroma\n",
    "\n",
    "query = \"What are the benefits of doing regular exercise?\"\n",
    "query_vec = encoder.encode(query).tolist()\n",
    "\n",
    "results = collection.query(\n",
    "    query_embeddings=[query_vec],\n",
    "    n_results=3\n",
    ")\n",
    "\n",
    "print(\"Query:\", query)\n",
    "for doc, meta in zip(results[\"documents\"][0], results[\"metadatas\"][0]):\n",
    "    print(f\"-> {doc} [{meta['category']}]\")\n"
   ]
  },
  {
   "cell_type": "code",
   "execution_count": 11,
   "id": "61909de9",
   "metadata": {},
   "outputs": [
    {
     "name": "stdout",
     "output_type": "stream",
     "text": [
      "\n",
      "Filtered to only Health category:\n",
      "-> Cycling is being promoted as a healthy lifestyle [Health]\n",
      "-> Regular morning walks can help reduce stress levels [Health]\n",
      "-> Yoga retreats are attracting working professionals [Health]\n"
     ]
    }
   ],
   "source": [
    "# Filter by metadata\n",
    "\n",
    "results_health = collection.query(\n",
    "    query_embeddings=[query_vec],\n",
    "    n_results=3,\n",
    "    where={\"category\": \"Health\"}\n",
    ")\n",
    "\n",
    "print(\"\\nFiltered to only Health category:\")\n",
    "for doc, meta in zip(results_health[\"documents\"][0], results_health[\"metadatas\"][0]):\n",
    "    print(f\"-> {doc} [{meta['category']}]\")"
   ]
  },
  {
   "cell_type": "code",
   "execution_count": null,
   "id": "a1ac3713",
   "metadata": {},
   "outputs": [],
   "source": []
  }
 ],
 "metadata": {
  "kernelspec": {
   "display_name": "chatbot",
   "language": "python",
   "name": "python3"
  },
  "language_info": {
   "codemirror_mode": {
    "name": "ipython",
    "version": 3
   },
   "file_extension": ".py",
   "mimetype": "text/x-python",
   "name": "python",
   "nbconvert_exporter": "python",
   "pygments_lexer": "ipython3",
   "version": "3.12.11"
  }
 },
 "nbformat": 4,
 "nbformat_minor": 5
}
