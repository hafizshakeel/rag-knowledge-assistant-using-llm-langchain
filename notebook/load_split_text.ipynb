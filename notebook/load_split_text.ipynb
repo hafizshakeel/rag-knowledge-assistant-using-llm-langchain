{
 "cells": [
  {
   "cell_type": "markdown",
   "id": "07334452",
   "metadata": {},
   "source": [
    "### Loading Data from Text and CSV file"
   ]
  },
  {
   "cell_type": "code",
   "execution_count": 4,
   "id": "ce6e1869",
   "metadata": {},
   "outputs": [
    {
     "data": {
      "text/plain": [
       "[Document(metadata={'source': '../data/AI_impact.txt'}, page_content=\"Transforming industries with AI: Lessons from China’s journey\\n\\nArtificial intelligence (AI) is rapidly reshaping industries worldwide, with China emerging as a key player in demonstrating how AI can drive industrial transformation at scale.\\n\\nWith a growing AI industry valued at over $70 billion and a dynamic ecosystem of over 4,300 companies, China provides insights into how nations can align strategy, innovation, and ecosystem development to harness AI's transformative potential.\\n\\nThe newly released whitepaper Industries in the Intelligent Age - Blueprint to Action: China's Path to AI-powered Industry Transformation from the World Economic Forum's AI Governance Alliance highlights how the country uses AI to address industry-specific challenges while illustrating the complexities of responsibly scaling AI innovations.\\n\\nWhile China’s model may not be universally applicable, it offers valuable lessons on fostering industry-specific innovation and integrating AI into complex ecosystems.\\n\\n\\nStrategic foundations for AI growth\\nChina’s trajectory in AI is underpinned by a structured and phased approach. The Next Generation AI Development Plan, launched in 2017, sets ambitious goals, aiming to position AI as a core driver of economic transformation by 2025 and establish the country as a global hub for AI innovation by 2030.\\n\\nThis plan reflects an emphasis on long-term planning, which includes balancing innovation with safety through adaptive regulations.\\n\\nFor example, initiatives such as the Interim Measures for the Management of Generative AI Services (2023) and the AI Safety Governance Framework address emerging risks while fostering technological advancement.\\n\\nThese frameworks enable experimentation with AI applications while ensuring alignment with ethical principles – a balance many nations seek to achieve.\\n\\nThe role of ecosystem enablers\\nChina’s progress in AI is facilitated by a robust ecosystem that integrates infrastructure, data, talent, and innovation. Investments in advanced technologies, such as its expansive 5G networks and energy-efficient green data centres, provide a solid foundation for AI applications.\\n\\nThese infrastructural advances support the deployment of high-capacity computing power, which is essential for training large-scale AI models.\\n\\nData also plays a pivotal role. With one of the fastest-growing data ecosystems globally, China has developed strategies to improve data interoperability and accessibility across sectors.\\n\\nEfforts to establish the National Data Administration demonstrate a commitment to ensuring that data becomes a cornerstone of technological innovation.\\n\\nIn parallel, China’s education and research institutions have significantly scaled AI-related programmes, reflecting the country’s recognition of the need for a skilled workforce.\\n\\nAI’s industry-specific impact\\nChina’s approach to AI emphasizes practical applications tailored to the unique needs of various industries.\\n\\nBy integrating AI technologies such as digital twins, predictive maintenance and generative AI, industries such as manufacturing, healthcare, transportation, retail and energy are witnessing transformative advancements.\\n\\nThese include optimizing production processes, enhancing diagnostics and patient care, enabling autonomous transport systems, personalizing consumer experiences and improving renewable energy management.\\n\\nThis sector-focused innovation exemplifies how AI can be applied at scale to drive efficiency, sustainability, and new business and operational models. The emphasis on tailoring AI solutions to specific needs showcases an approach other regions could adopt to maximize impact and overcome barriers to adoption.\\n\\nChallenges and opportunities\\nDespite its successes, China’s AI development is not without obstacles. Issues such as fragmented data flows, uneven regional capabilities and a significant talent gap present ongoing challenges.\\n\\nAddressing these will require collaborative efforts across sectors and borders. China’s experience also highlights the importance of maintaining interoperability and fostering partnerships to enable scalable AI adoption.\\n\\nFor global stakeholders, the lessons from China are not prescriptive but illustrative. They demonstrate how aligning strategy, ecosystem enablers and industry-specific innovation can help unlock AI’s potential.\\n\\nHowever, the journey also emphasizes the need for responsible development and international collaboration to navigate the complex interplay between technology, society and governance.\\n\\nThe AI Governance Alliance continues to explore how AI can catalyze sustainable, inclusive growth. Through such platforms, stakeholders can collaborate to ensure that AI development adheres to high ethical standards while addressing global challenges effectively.\\n\\nThe path forward will require balancing innovation with responsibility – an endeavour that benefits from shared insights and collective action.\")]"
      ]
     },
     "execution_count": 4,
     "metadata": {},
     "output_type": "execute_result"
    }
   ],
   "source": [
    "from langchain.document_loaders import TextLoader\n",
    "loader = TextLoader(\"../data/AI_impact.txt\")\n",
    "data = loader.load()\n",
    "\n",
    "data"
   ]
  },
  {
   "cell_type": "code",
   "execution_count": 5,
   "id": "67b61ddd",
   "metadata": {},
   "outputs": [
    {
     "name": "stdout",
     "output_type": "stream",
     "text": [
      "1\n",
      "<class 'langchain_community.document_loaders.text.TextLoader'>\n"
     ]
    }
   ],
   "source": [
    "print(len(data))\n",
    "print(type(loader))"
   ]
  },
  {
   "cell_type": "code",
   "execution_count": 6,
   "id": "a694a455",
   "metadata": {},
   "outputs": [
    {
     "data": {
      "text/plain": [
       "[Document(metadata={'source': '../data/sample.csv', 'row': 0}, page_content='text: Meditation apps are gaining popularity among students\\ncategory: Health'),\n",
       " Document(metadata={'source': '../data/sample.csv', 'row': 1}, page_content='text: Regular morning walks can help reduce stress levels\\ncategory: Health'),\n",
       " Document(metadata={'source': '../data/sample.csv', 'row': 2}, page_content='text: Doctors recommend balanced diets for heart patients\\ncategory: Health'),\n",
       " Document(metadata={'source': '../data/sample.csv', 'row': 3}, page_content='text: Yoga retreats are attracting working professionals\\ncategory: Health'),\n",
       " Document(metadata={'source': '../data/sample.csv', 'row': 4}, page_content='text: A new skincare brand launched its eco-friendly range\\ncategory: Fashion'),\n",
       " Document(metadata={'source': '../data/sample.csv', 'row': 5}, page_content='text: Oversized blazers are trending this winter\\ncategory: Fashion'),\n",
       " Document(metadata={'source': '../data/sample.csv', 'row': 6}, page_content='text: Sneakers with bold colors are dominating street style\\ncategory: Fashion'),\n",
       " Document(metadata={'source': '../data/sample.csv', 'row': 7}, page_content='text: Luxury handbags are back in demand this season\\ncategory: Fashion'),\n",
       " Document(metadata={'source': '../data/sample.csv', 'row': 8}, page_content='text: The annual book fair will open next weekend\\ncategory: Event'),\n",
       " Document(metadata={'source': '../data/sample.csv', 'row': 9}, page_content='text: Music festival tickets are selling out quickly\\ncategory: Event'),\n",
       " Document(metadata={'source': '../data/sample.csv', 'row': 10}, page_content='text: A charity marathon will take place in December\\ncategory: Event'),\n",
       " Document(metadata={'source': '../data/sample.csv', 'row': 11}, page_content='text: Film awards ceremony to be hosted in Los Angeles\\ncategory: Event'),\n",
       " Document(metadata={'source': '../data/sample.csv', 'row': 12}, page_content='text: Thailand is offering new visa-free travel for tourists\\ncategory: Travel'),\n",
       " Document(metadata={'source': '../data/sample.csv', 'row': 13}, page_content='text: Backpacking in Europe remains a top student choice\\ncategory: Travel'),\n",
       " Document(metadata={'source': '../data/sample.csv', 'row': 14}, page_content='text: Adventure tourism is rising in Nepal\\ncategory: Travel'),\n",
       " Document(metadata={'source': '../data/sample.csv', 'row': 15}, page_content='text: Dubai is becoming a hub for luxury tourism\\ncategory: Travel'),\n",
       " Document(metadata={'source': '../data/sample.csv', 'row': 16}, page_content='text: AI assistants are now being used in classrooms\\ncategory: Technology'),\n",
       " Document(metadata={'source': '../data/sample.csv', 'row': 17}, page_content='text: Smart home devices are becoming more affordable\\ncategory: Technology'),\n",
       " Document(metadata={'source': '../data/sample.csv', 'row': 18}, page_content='text: Quantum computing research is gaining traction\\ncategory: Technology'),\n",
       " Document(metadata={'source': '../data/sample.csv', 'row': 19}, page_content='text: Electric cars are dominating tech conferences\\ncategory: Technology'),\n",
       " Document(metadata={'source': '../data/sample.csv', 'row': 20}, page_content='text: A new vegan café opened downtown\\ncategory: Food'),\n",
       " Document(metadata={'source': '../data/sample.csv', 'row': 21}, page_content='text: Street food festivals are attracting large crowds\\ncategory: Food'),\n",
       " Document(metadata={'source': '../data/sample.csv', 'row': 22}, page_content='text: Plant-based meat options are expanding rapidly\\ncategory: Food'),\n",
       " Document(metadata={'source': '../data/sample.csv', 'row': 23}, page_content='text: Gourmet coffee shops are spreading in small towns\\ncategory: Food'),\n",
       " Document(metadata={'source': '../data/sample.csv', 'row': 24}, page_content='text: The local football league starts this Friday\\ncategory: Sports'),\n",
       " Document(metadata={'source': '../data/sample.csv', 'row': 25}, page_content='text: Basketball training camps are scheduled for summer\\ncategory: Sports'),\n",
       " Document(metadata={'source': '../data/sample.csv', 'row': 26}, page_content='text: Tokyo Olympics inspired new fitness programs\\ncategory: Sports'),\n",
       " Document(metadata={'source': '../data/sample.csv', 'row': 27}, page_content='text: Tennis stars prepare for the upcoming grand slam\\ncategory: Sports'),\n",
       " Document(metadata={'source': '../data/sample.csv', 'row': 28}, page_content='text: A photography exhibition will run all of November\\ncategory: Art'),\n",
       " Document(metadata={'source': '../data/sample.csv', 'row': 29}, page_content='text: Street art festivals are drawing global visitors\\ncategory: Art'),\n",
       " Document(metadata={'source': '../data/sample.csv', 'row': 30}, page_content='text: Modern art auctions broke sales records\\ncategory: Art'),\n",
       " Document(metadata={'source': '../data/sample.csv', 'row': 31}, page_content='text: Sculpture workshops are being organized for students\\ncategory: Art'),\n",
       " Document(metadata={'source': '../data/sample.csv', 'row': 32}, page_content='text: Online learning platforms are growing in popularity\\ncategory: Education'),\n",
       " Document(metadata={'source': '../data/sample.csv', 'row': 33}, page_content='text: Coding bootcamps provide job-ready skills\\ncategory: Education'),\n",
       " Document(metadata={'source': '../data/sample.csv', 'row': 34}, page_content='text: Universities are adopting hybrid teaching models\\ncategory: Education'),\n",
       " Document(metadata={'source': '../data/sample.csv', 'row': 35}, page_content='text: Scholarship opportunities are expanding worldwide\\ncategory: Education'),\n",
       " Document(metadata={'source': '../data/sample.csv', 'row': 36}, page_content='text: Stock markets showed strong growth this week\\ncategory: Finance'),\n",
       " Document(metadata={'source': '../data/sample.csv', 'row': 37}, page_content='text: Cryptocurrency prices hit a new high\\ncategory: Finance'),\n",
       " Document(metadata={'source': '../data/sample.csv', 'row': 38}, page_content='text: Investors are shifting focus to green energy\\ncategory: Finance'),\n",
       " Document(metadata={'source': '../data/sample.csv', 'row': 39}, page_content='text: Banks introduce digital savings apps\\ncategory: Finance'),\n",
       " Document(metadata={'source': '../data/sample.csv', 'row': 40}, page_content='text: Cycling is being promoted as a healthy lifestyle\\ncategory: Health'),\n",
       " Document(metadata={'source': '../data/sample.csv', 'row': 41}, page_content='text: New winter jackets are dominating fashion stores\\ncategory: Fashion'),\n",
       " Document(metadata={'source': '../data/sample.csv', 'row': 42}, page_content='text: Carnival celebrations expected in Brazil next March\\ncategory: Event'),\n",
       " Document(metadata={'source': '../data/sample.csv', 'row': 43}, page_content='text: Bali and Maldives top honeymoon destinations\\ncategory: Travel'),\n",
       " Document(metadata={'source': '../data/sample.csv', 'row': 44}, page_content='text: Wearable fitness trackers are getting smarter\\ncategory: Technology'),\n",
       " Document(metadata={'source': '../data/sample.csv', 'row': 45}, page_content='text: Street food carts offer innovative fusion dishes\\ncategory: Food'),\n",
       " Document(metadata={'source': '../data/sample.csv', 'row': 46}, page_content='text: National cricket league finals will be played next week\\ncategory: Sports'),\n",
       " Document(metadata={'source': '../data/sample.csv', 'row': 47}, page_content='text: A new art museum opened in the capital\\ncategory: Art'),\n",
       " Document(metadata={'source': '../data/sample.csv', 'row': 48}, page_content='text: Virtual classrooms are the future of global education\\ncategory: Education'),\n",
       " Document(metadata={'source': '../data/sample.csv', 'row': 49}, page_content='text: Fintech startups are transforming the banking industry\\ncategory: Finance')]"
      ]
     },
     "execution_count": 6,
     "metadata": {},
     "output_type": "execute_result"
    }
   ],
   "source": [
    "from langchain.document_loaders.csv_loader import CSVLoader\n",
    "loader = CSVLoader(file_path=\"../data/sample.csv\")\n",
    "data = loader.load()\n",
    "\n",
    "data"
   ]
  },
  {
   "cell_type": "code",
   "execution_count": 7,
   "id": "4ac43f36",
   "metadata": {},
   "outputs": [
    {
     "data": {
      "text/plain": [
       "Document(metadata={'source': '../data/sample.csv', 'row': 0}, page_content='text: Meditation apps are gaining popularity among students\\ncategory: Health')"
      ]
     },
     "execution_count": 7,
     "metadata": {},
     "output_type": "execute_result"
    }
   ],
   "source": [
    "data[0] # first document"
   ]
  },
  {
   "cell_type": "code",
   "execution_count": 8,
   "id": "d913f0c5",
   "metadata": {},
   "outputs": [
    {
     "data": {
      "text/plain": [
       "'text: Meditation apps are gaining popularity among students\\ncategory: Health'"
      ]
     },
     "execution_count": 8,
     "metadata": {},
     "output_type": "execute_result"
    }
   ],
   "source": [
    "data[0].page_content"
   ]
  },
  {
   "cell_type": "code",
   "execution_count": 9,
   "id": "d1ad7f5a",
   "metadata": {},
   "outputs": [
    {
     "data": {
      "text/plain": [
       "{'source': '../data/sample.csv', 'row': 0}"
      ]
     },
     "execution_count": 9,
     "metadata": {},
     "output_type": "execute_result"
    }
   ],
   "source": [
    "data[0].metadata"
   ]
  },
  {
   "cell_type": "markdown",
   "id": "d3bfe1a8",
   "metadata": {},
   "source": [
    "### UnstructuredURLLoader"
   ]
  },
  {
   "cell_type": "code",
   "execution_count": 10,
   "id": "14c5c9f6",
   "metadata": {},
   "outputs": [
    {
     "data": {
      "text/plain": [
       "[Document(metadata={'source': 'https://www.businessnewsdaily.com/9402-artificial-intelligence-business-trends.html'}, page_content=\"Menu\\n\\nStart\\n\\nOur Recommendations\\n\\nBest Small Business Loans for 2025\\n\\nBusinessloans.com Review\\n\\nBiz2Credit Review\\n\\nSBG Funding Review\\n\\nRapid Finance Review\\n\\nOur Guides\\n\\n30 Great Business Ideas for Motivated Entrepreneurs\\n\\nStartup Costs: How Much Cash Will You Need?\\n\\nHow to Get a Bank Loan for Your Small Business\\n\\nArticles of Incorporation: What New Business Owners Should Know\\n\\nHow to Choose the Best Legal Structure for Your Business\\n\\nSmall Business Resources\\n\\nBusiness Ideas\\n\\nBusiness Plans\\n\\nStartup Basics\\n\\nStartup Funding\\n\\nFranchising\\n\\nSuccess Stories\\n\\nEntrepreneurs\\n\\nGrow\\n\\nOur Recommendations\\n\\nThe Best Credit Card Processors of 2025\\n\\nClover Credit Card Processing Review\\n\\nMerchant One Review\\n\\nStax Review\\n\\nOur Guides\\n\\nHow to Conduct a Market Analysis for Your Business\\n\\nLocal Marketing Strategies for Success\\n\\nTips for Hiring a Marketing Company\\n\\nBenefits of CRM Systems\\n\\n10 Employee Recruitment Strategies for Success\\n\\nSmall Business Resources\\n\\nSales & Marketing\\n\\nFinances\\n\\nYour Team\\n\\nTechnology\\n\\nSocial Media\\n\\nSecurity\\n\\nLead\\n\\nOur Recommendations\\n\\nBest Business Phone Systems of 2025\\n\\nThe Best PEOs of 2025\\n\\nRingCentral Review\\n\\nNextiva Review\\n\\nOoma Review\\n\\nOur Guides\\n\\nGuide to Developing a Training Program for New Employees\\n\\nHow Does 401(k) Matching Work for Employers?\\n\\nWhy You Need to Create a Fantastic Workplace Culture\\n\\n16 Cool Job Perks That Keep Employees Happy\\n\\n7 Project Management Styles\\n\\nSmall Business Resources\\n\\nLeadership\\n\\nWomen in Business\\n\\nManaging\\n\\nStrategy\\n\\nPersonal Growth\\n\\nFind\\n\\nOur Recommendations\\n\\nBest Accounting Software and Invoice Generators of 2025\\n\\nBest Payroll Services for 2025\\n\\nBest POS Systems for 2025\\n\\nBest CRM Software of 2025\\n\\nBest Call Centers and Answering Services for Businesses for 2025\\n\\nOur Guides\\n\\nSalesforce vs. HubSpot: Which CRM Is Right for Your Business?\\n\\nRippling vs Gusto: An In-Depth Comparison\\n\\nRingCentral vs. Ooma Comparison\\n\\nChoosing a Business Phone System: A Buyer’s Guide\\n\\nEquipment Leasing: A Guide for Business Owners\\n\\nSmall Business Resources\\n\\nHR Solutions\\n\\nFinancial Solutions\\n\\nMarketing Solutions\\n\\nSecurity Solutions\\n\\nRetail Solutions\\n\\nSMB Solutions\\n\\nGrow Your Business\\n\\nTechnology\\n\\nAdvertising Disclosure\\n\\nAdvertising Disclosure\\n\\nBusiness News Daily provides resources, advice and product reviews to drive business growth. Our mission is to equip business owners with the knowledge and confidence to make informed decisions. As part of that, we recommend products and services for their success.\\n\\nWe collaborate with business-to-business vendors, connecting them with potential buyers. In some cases, we earn commissions when sales are made through our referrals. These financial relationships support our content but do not dictate our recommendations. Our editorial team independently evaluates products based on thousands of hours of research. We are committed to providing trustworthy advice for businesses. Learn more about our full process and see who our partners are here.\\n\\nHow Artificial Intelligence Will Transform Businesses\\n\\nAI's vast capabilities are already transforming business and changing the nature of many jobs.\\n\\nauthor image\\n\\nWritten by: Adam Uzialko, Senior EditorUpdated Aug 27, 2024\\n\\nEditor Reviewed:\\n\\nEditor Reviewed\\n\\nThis guide was reviewed by a Business News Daily editor to ensure it provides comprehensive and accurate information to aid your buying decision.\\n\\nSandra Mardenfeld,Senior Editor\\n\\nBusiness News Daily earns compensation from some listed companies. Editorial Guidelines.\\n\\nTable of Contents\\n\\nMany people still associate artificial intelligence (AI) with science-fiction dystopias, but that characterization is waning as the technology develops and becomes more commonplace in our daily lives. Today, AI is a household name — and sometimes even a household presence. Perhaps more importantly, it’s becoming an increasingly crucial business tool with ramifications across multiple industries.\\n\\nWe’ll explain more about AI, how it impacts business and why adopting AI technologies is imperative to maintain a competitive edge.\\n\\nWhat is AI?\\n\\nAI is a broad term that refers to computer software that engages in humanlike activities, including learning, planning and problem-solving. Calling specific applications “artificial intelligence” is like calling a car a “vehicle.” It’s technically correct, but it doesn’t cover the specifics.\\n\\nAI’s most prevalent business use cases involve machine learning (ML) and deep learning.\\n\\nML\\n\\nML is one of the most common types of AI being developed for business purposes. It is primarily used to process large amounts of data quickly. ML-based AI includes algorithms that appear to “learn” over time. In other words, if you feed an ML algorithm more data, its modeling should improve.\\n\\nML can put vast troves of data — increasingly captured by connected devices and the Internet of Things (IoT) — into a digestible context for humans.\\n\\nML example:\\n\\nIf you manage a manufacturing plant, your machinery is likely hooked up to a network. Connected devices feed a constant stream of data about functionality, production and more to a central location. Unfortunately, it’s too much data for a human to sift through — and even if they could, they would likely miss most of the patterns.\\n\\nIn contrast, ML can rapidly analyze the data as it comes in, identifying patterns and anomalies. If a machine in the manufacturing plant works at a reduced capacity, an ML algorithm can catch the problem and notify decision-makers that it’s time to dispatch a preventive maintenance team.\\n\\nDid You Know?\\n\\nML differs from automation. Automation focuses on repetitive, instructive tasks while ML goes further to add the element of prediction.\\n\\nDeep learning\\n\\nDeep learning is an even more specific version of ML that relies on neural networks to engage in nonlinear reasoning. It is critical to perform more advanced functions, such as fraud detection, because it can simultaneously analyze a wide range of factors.\\n\\nDeep learning has excellent promise in business. While older ML algorithms can plateau after capt uring a specific amount of data, deep-learning models continue improving performance as more data is received. They are far more scalable, detailed and independent.\\n\\nDeep learning example:\\n\\nFor self-driving cars to work, several factors must be identified, analyzed and responded to simultaneously. Deep learning algorithms help self-driving cars contextualize information picked up by their sensors, such as the distance of other objects, the speed at which they are moving and a prediction of where they will be in five to 10 seconds. All this information is calculated at once to help a self-driving car make decisions like when to change lanes.\\n\\nHow AI is transforming business\\n\\nAI isn’t a replacement for human intelligence and ingenuity — it’s a supporting tool. While the technology may not be able to complete commonsense tasks in the real world, it is adept at processing and analyzing troves of data much faster than a human brain. AI software can take data and present synthesized courses of action to human users, helping us determine potential consequences and streamline business decision-making.\\n\\n“Artificial intelligence is kind of the second coming of software,” explained Amir Husain, founder of ML company SparkCognition. “It’s a form of software that makes decisions on its own, that’s able to act even in situations not foreseen by the programmers. Artificial intelligence has a wider latitude of decision-making ability [than] traditional software.”\\n\\nAI’s abilities make the technology a valuable business tool, particularly in the following areas:\\n\\nML\\n\\nCybersecurity\\n\\nCustomer relationship management (CRM)\\n\\nInternet and data research\\n\\nDigital personal assistants\\n\\nML\\n\\nIn business, ML is often used in systems that capture vast amounts of data. For example, smart energy management systems collect data from sensors affixed to various assets. The troves of data are then contextualized by ML algorithms and delivered to your company’s decision-makers to understand energy usage and maintenance demands better.\\n\\nDid You Know?\\n\\nML is transforming underwriting in the insurance industry by streamlining risk assessment and fraud detection.\\n\\nCybersecurity\\n\\nAI is an indispensable ally in preventing and avoiding network security threats. AI systems can recognize cyberattacks and cybersecurity threats by monitoring data input patterns. After detecting a threat, it can backtrack through your data to find the source and help prevent future threats. AI is an extra set of diligent, constantly seeking eyes that can significantly bolster your infrastructure.\\n\\n“You really can’t have enough cybersecurity experts to look at these problems because of scale and increasing complexity,” Husain noted. “Artificial intelligence is playing an increasing role here as well.”\\n\\nCRM\\n\\nAI is also changing CRM systems. Typically, CRM software requires significant human intervention to remain current and accurate. However, today’s best CRM software uses AI to transform into self-updating, auto-correcting systems that do much of the background work of managing customer relationships. For example, Hubspot CRM offers AI tools to help draft emails or social media copy and analyze customer profiles and data to support your team.\\n\\nA great example of using AI in CRM can be found in the financial sector. Dr. Hossein Rahnama, founder and CEO of AI concierge company Flybits and visiting professor at the Massachusetts Institute of Technology, worked with TD Bank to integrate AI with regular banking operations.\\n\\n“Using this technology, if you have a mortgage with the bank and it’s up for renewal in 90 days or less … if you’re walking by a branch, you get a personalized message inviting you to go to the branch and renew [your] purchase,” Rahnama explained. “If you’re looking at a property for sale and you spend more than 10 minutes there, it will send you a possible mortgage offer.\\n\\nTip\\n\\nRead our review of Salesforce to learn about this CRM platform's AI-based Einstein GPT technology that uses proprietary AI models and ChatGPT to create automations and personalized AI-generated content.\\n\\nInternet and data research\\n\\nAI is also significantly impacting online data research. It can sift through vast data troves to identify search behavior patterns and provide users with more relevant information. As people use their devices more and AI technology becomes even more advanced, users will have even more customizable experiences. These abilities will help small businesses reach their target customers more efficiently.\\n\\n“We’re no longer expecting the user to constantly be on a search box Googling what they need,” Rahnama noted. “The paradigm is shifting as to how the right information finds the right user at the right time.”\\n\\nDigital personal assistants\\n\\nAI can transform internal business operations through AI chatbots that act as personal assistants, helping to manage emails, maintain calendars and provide recommendations for streamlining processes. Additionally, chatbots can help you grow your business by handling customer inquiries online.\\n\\nBy offloading various tasks to chatbots, you improve customer service while gaining extra time to focus on strategies to grow your business.\\n\\nThe future of AI\\n\\nThe future of AI is potentially limitless. Consider the following paths forward for the technology:\\n\\nAI will handle more everyday tasks: Experts see AI technology continuing to develop to handle more “commonsense” tasks. That means robots will become extremely useful in everyday life.\\n\\nAI will make the impossible possible: “AI is starting to make what was once considered impossible possible, like driverless cars,” explained Russell Glenister, CEO and founder of Curation Zone. “Driverless cars are only a reality because of access to training data and fast GPUs [graphics processing units], which are both key enablers. To train driverless cars, an enormous amount of accurate data is required and speed is key to undertake the training. Five years ago, the processors were too slow, but the introduction of GPUs made it all possible.”\\n\\nAI will revolutionize familiar activities. Dr. Nathan Wilson, co-founder and chief technology officer of Nara Logics, says AI is on the cusp of revolutionizing familiar activities like dining. Wilson predicted that AI could be used by a restaurant to decide which music to play based on the interests of the guests in attendance. AI could even alter the appearance of the wallpaper based on what the technology anticipates the crowd’s aesthetic preferences might be.\\n\\nAI will pave the way for 3D experiences. Rahnama predicts that AI will transform digital technology from the familiar two-dimensional, screen-imprisoned form. “We’ve always relied on a two-dimensional display to play a game or interact with a web page or read an e-book,” Rahnama explained. “What’s going to happen now with artificial intelligence and a combination of [the Internet of Things] is that the display won’t be the main interface ― the environment will be. You’ll see people designing experiences around them, whether it’s in connected buildings or connected boardrooms. These will be 3D experiences you can actually feel.”\\n\\nTip\\n\\nIf interacting with digital overlays in your immediate environment interests you, consider finding a job in augmented reality.\\n\\nWhat does AI mean for workers?\\n\\nAs AI transforms industries, many fear technology and workplace automation will force humans out of work. The jury is still out: Some experts vehemently deny that AI will automate so many jobs that millions of people will be unemployed while others see it as a pressing problem.\\n\\nWhile there is still some debate on how the rise of AI will change the workforce, experts agree there are some trends we can expect to see.\\n\\nAI may affect analyst jobs.\\n\\nRahnama doesn’t foresee wide-ranging lost jobs. “The structure of the workforce is changing, but I don’t think artificial intelligence is essentially replacing jobs,” Rahnama explained. “It allows us to really create a knowledge-based economy and leverage that to create better automation for a better form of life.”\\n\\nHowever, Rahnama does see potential repercussions for analyst-related jobs. “It might be a little bit theoretical, but I think if you have to worry about artificial intelligence and robots replacing our jobs, it’s probably algorithms replacing white-collar jobs, such as business analysts, hedge fund managers and lawyers.”\\n\\nAI may create more jobs.\\n\\nSome experts believe that integrating AI into the workforce will create more jobs — at least in the short term.\\n\\nWilson says the shift toward AI-based systems will likely cause the economy to add jobs facilitating the transition. “Artificial intelligence will create more wealth than it destroys,” Wilson predicted, “but it will not be equitably distributed, especially at first. The changes will be subliminally felt and not overt. A tax accountant won’t one day receive a pink slip and meet the robot that is now going to sit at [their] desk. Rather, the next time the tax accountant applies for a job, it will be a bit harder to find one.”\\n\\nWilson also anticipates that AI in the workplace will fragment long-standing workflows, creating many human jobs to integrate those workflows.\\n\\nAI-created jobs may dwindle eventually.\\n\\nIf AI does affect employment, this transition will take years — if not decades — across different workforce sectors. Still, experts like Husain are worried that once AI becomes ubiquitous, any jobs the technology creates (and existing ones) may start to dwindle.\\n\\nHusain wonders where those workers will go in the long term. “In the past, there were opportunities to move from farming to manufacturing to services. Now, that’s not the case. Why? Industry has been completely robotized and we see that automation makes more sense economically.”\\n\\nHusain pointed to self-driving trucks and AI concierges like Siri and Cortana as examples. He said that as these technologies improve, widespread use could eliminate as many as 8 million jobs in the United States alone.\\n\\n“When all these jobs start going away, we need to ask, ‘What is it that makes us productive? What does productivity mean?'” Husain said. “Now, we’re confronting the changing reality and questioning society’s underlying assumptions. We must really think about this and decide what makes us productive and what is the value of people in society. We need to have this debate and have it quickly because the technology won’t wait for us.”\\n\\nAI may require a shift to more specialized skills.\\n\\nAs AI becomes a more integrated part of the workforce, it’s unlikely that all human jobs will disappear. Instead, many experts have begun to predict that the workforce will become more specialized. These roles will require skills that workplace automation can’t (yet) provide, such as creativity, problem-solving and qualitative skills.\\n\\nAI is the future\\n\\nWhether rosy or rocky, the future is coming quickly and AI will undoubtedly be a part of it. As this technology develops, the world will see new startups, numerous business applications and consumer uses, displacing some jobs and creating entirely new ones. Along with the IOT, AI has the potential to dramatically remake the economy, but its exact impact remains to be seen.\\n\\nNeil Cumins contributed to this article. Source interviews were conducted for a previous version of this article.\\n\\nDid you find this content helpful?\\n\\nThank you for your feedback!\\n\\nShare Article:\\n\\nauthor image\\n\\nWritten by: Adam Uzialko, Senior Editor\\n\\nAdam Uzialko, senior editor of Business News Daily, is not just a professional writer and editor — he’s also an entrepreneur who knows firsthand what it’s like building a business from scratch. His experience as co-founder and managing editor of a digital marketing company imbues his work at Business News Daily with a perspective grounded in the realities of running a small business. At Business News Daily, Adam covers the ins and outs of business technology, such as iPhone credit card processing, POS systems, CRMs and remote-work tools, while also sharing best practices for everyday operations. Since 2015, Adam has also reviewed hundreds of small business products and services, including contact center solutions, email marketing software and text message marketing software. Adam uses the products, interviews users and talks directly to the companies that make the products and services he evaluates. Additionally, he often specializes in digital marketing topics, with a focus on content marketing, editorial strategy and managing a marketing team.\\n\\nEmail\\n\\nLinkedIn\\n\\nRelated Reviews\\n\\nThe Best Phone Systems for Small Businesses\\n\\nthumbnail\\n\\nThe Best Business Accounting Software Services of 2025\\n\\nthumbnail\\n\\nBest Payroll Services for 2025\\n\\nthumbnail\\n\\nMore Related reviews\\n\\nRelated Articles\\n\\nWorkplace Automation Is Everywhere, and It’s Not Just About Robots\\n\\nthumbnail\\n\\nHow to Get a Job in Virtual or Augmented Reality\\n\\nthumbnail\\n\\nHow Businesses Are Collecting Data (And What They’re Doing With It)\\n\\nthumbnail\\n\\nSmall Business Trends and Predictions for 2025\\n\\nthumbnail\\n\\nHow Artificial Intelligence Is Transforming The Insurance Industry\\n\\nthumbnail\\n\\nTechnology Terms Every Entrepreneur Should Know\\n\\nthumbnail\\n\\nMore Related articles\\n\\nRecommended Next\\n\\nWhat Is Predictive Analytics?\\n\\nthumbnail\\n\\nMachine Learning or Automation: What’s the Difference?\\n\\nthumbnail\\n\\nBig data and CRM: How Can They Help Small Businesses?\\n\\nthumbnail\\n\\n10 Tech Trends That Will Influence Your Marketing Strategies\\n\\nthumbnail\\n\\nWhat are Unified Communications Systems?\\n\\nthumbnail\\n\\nMore Related articles\\n\\ninfo@businessnewsdaily.com\\n\\n200 5th Avenue, 2nd Floor\\n\\nWaltham, MA 02451\\n\\nHow to Start a BusinessHow to Market Your BusinessHow to Hire For Your BusinessSelf Employed Tax CalculatorSalary to Hourly Calculator\\n\\nAbout UsCareersAdvertise With UsEditorial Guidelines\\n\\nPrivacy PolicyDo Not Sell My Personal InfoTerms of UseCopyright PolicyAdvertising Disclosure\\n\\nBusiness.comBuyerZone\\n\\n© 2025 business.com\\n\\nAll Rights Reserved.\")]"
      ]
     },
     "execution_count": 10,
     "metadata": {},
     "output_type": "execute_result"
    }
   ],
   "source": [
    "# Unstructured URL loader\n",
    "from langchain.document_loaders import UnstructuredURLLoader\n",
    "\n",
    "loader = UnstructuredURLLoader(\n",
    "    # URL other than wikipedia\n",
    "    urls=[\n",
    "        # \"https://www.mckinsey.com/industries/life-sciences/our-insights/scaling-gen-ai-in-the-life-sciences-industry\",\n",
    "        \"https://www.businessnewsdaily.com/9402-artificial-intelligence-business-trends.html\"\n",
    "        ]\n",
    ")\n",
    "\n",
    "data_url = loader.load()\n",
    "data_url"
   ]
  },
  {
   "cell_type": "code",
   "execution_count": 11,
   "id": "28dfabad",
   "metadata": {},
   "outputs": [
    {
     "data": {
      "text/plain": [
       "\"Menu\\n\\nStart\\n\\nOur Recommendations\\n\\nBest Small Business Loans for 2025\\n\\nBusinessloans.com Review\\n\\nBiz2Credit Review\\n\\nSBG Funding Review\\n\\nRapid Finance Review\\n\\nOur Guides\\n\\n30 Great Business Ideas for Motivated Entrepreneurs\\n\\nStartup Costs: How Much Cash Will You Need?\\n\\nHow to Get a Bank Loan for Your Small Business\\n\\nArticles of Incorporation: What New Business Owners Should Know\\n\\nHow to Choose the Best Legal Structure for Your Business\\n\\nSmall Business Resources\\n\\nBusiness Ideas\\n\\nBusiness Plans\\n\\nStartup Basics\\n\\nStartup Funding\\n\\nFranchising\\n\\nSuccess Stories\\n\\nEntrepreneurs\\n\\nGrow\\n\\nOur Recommendations\\n\\nThe Best Credit Card Processors of 2025\\n\\nClover Credit Card Processing Review\\n\\nMerchant One Review\\n\\nStax Review\\n\\nOur Guides\\n\\nHow to Conduct a Market Analysis for Your Business\\n\\nLocal Marketing Strategies for Success\\n\\nTips for Hiring a Marketing Company\\n\\nBenefits of CRM Systems\\n\\n10 Employee Recruitment Strategies for Success\\n\\nSmall Business Resources\\n\\nSales & Marketing\\n\\nFinances\\n\\nYour Team\\n\\nTechnology\\n\\nSocial Media\\n\\nSecurity\\n\\nLead\\n\\nOur Recommendations\\n\\nBest Business Phone Systems of 2025\\n\\nThe Best PEOs of 2025\\n\\nRingCentral Review\\n\\nNextiva Review\\n\\nOoma Review\\n\\nOur Guides\\n\\nGuide to Developing a Training Program for New Employees\\n\\nHow Does 401(k) Matching Work for Employers?\\n\\nWhy You Need to Create a Fantastic Workplace Culture\\n\\n16 Cool Job Perks That Keep Employees Happy\\n\\n7 Project Management Styles\\n\\nSmall Business Resources\\n\\nLeadership\\n\\nWomen in Business\\n\\nManaging\\n\\nStrategy\\n\\nPersonal Growth\\n\\nFind\\n\\nOur Recommendations\\n\\nBest Accounting Software and Invoice Generators of 2025\\n\\nBest Payroll Services for 2025\\n\\nBest POS Systems for 2025\\n\\nBest CRM Software of 2025\\n\\nBest Call Centers and Answering Services for Businesses for 2025\\n\\nOur Guides\\n\\nSalesforce vs. HubSpot: Which CRM Is Right for Your Business?\\n\\nRippling vs Gusto: An In-Depth Comparison\\n\\nRingCentral vs. Ooma Comparison\\n\\nChoosing a Business Phone System: A Buyer’s Guide\\n\\nEquipment Leasing: A Guide for Business Owners\\n\\nSmall Business Resources\\n\\nHR Solutions\\n\\nFinancial Solutions\\n\\nMarketing Solutions\\n\\nSecurity Solutions\\n\\nRetail Solutions\\n\\nSMB Solutions\\n\\nGrow Your Business\\n\\nTechnology\\n\\nAdvertising Disclosure\\n\\nAdvertising Disclosure\\n\\nBusiness News Daily provides resources, advice and product reviews to drive business growth. Our mission is to equip business owners with the knowledge and confidence to make informed decisions. As part of that, we recommend products and services for their success.\\n\\nWe collaborate with business-to-business vendors, connecting them with potential buyers. In some cases, we earn commissions when sales are made through our referrals. These financial relationships support our content but do not dictate our recommendations. Our editorial team independently evaluates products based on thousands of hours of research. We are committed to providing trustworthy advice for businesses. Learn more about our full process and see who our partners are here.\\n\\nHow Artificial Intelligence Will Transform Businesses\\n\\nAI's vast capabilities are already transforming business and changing the nature of many jobs.\\n\\nauthor image\\n\\nWritten by: Adam Uzialko, Senior EditorUpdated Aug 27, 2024\\n\\nEditor Reviewed:\\n\\nEditor Reviewed\\n\\nThis guide was reviewed by a Business News Daily editor to ensure it provides comprehensive and accurate information to aid your buying decision.\\n\\nSandra Mardenfeld,Senior Editor\\n\\nBusiness News Daily earns compensation from some listed companies. Editorial Guidelines.\\n\\nTable of Contents\\n\\nMany people still associate artificial intelligence (AI) with science-fiction dystopias, but that characterization is waning as the technology develops and becomes more commonplace in our daily lives. Today, AI is a household name — and sometimes even a household presence. Perhaps more importantly, it’s becoming an increasingly crucial business tool with ramifications across multiple industries.\\n\\nWe’ll explain more about AI, how it impacts business and why adopting AI technologies is imperative to maintain a competitive edge.\\n\\nWhat is AI?\\n\\nAI is a broad term that refers to computer software that engages in humanlike activities, including learning, planning and problem-solving. Calling specific applications “artificial intelligence” is like calling a car a “vehicle.” It’s technically correct, but it doesn’t cover the specifics.\\n\\nAI’s most prevalent business use cases involve machine learning (ML) and deep learning.\\n\\nML\\n\\nML is one of the most common types of AI being developed for business purposes. It is primarily used to process large amounts of data quickly. ML-based AI includes algorithms that appear to “learn” over time. In other words, if you feed an ML algorithm more data, its modeling should improve.\\n\\nML can put vast troves of data — increasingly captured by connected devices and the Internet of Things (IoT) — into a digestible context for humans.\\n\\nML example:\\n\\nIf you manage a manufacturing plant, your machinery is likely hooked up to a network. Connected devices feed a constant stream of data about functionality, production and more to a central location. Unfortunately, it’s too much data for a human to sift through — and even if they could, they would likely miss most of the patterns.\\n\\nIn contrast, ML can rapidly analyze the data as it comes in, identifying patterns and anomalies. If a machine in the manufacturing plant works at a reduced capacity, an ML algorithm can catch the problem and notify decision-makers that it’s time to dispatch a preventive maintenance team.\\n\\nDid You Know?\\n\\nML differs from automation. Automation focuses on repetitive, instructive tasks while ML goes further to add the element of prediction.\\n\\nDeep learning\\n\\nDeep learning is an even more specific version of ML that relies on neural networks to engage in nonlinear reasoning. It is critical to perform more advanced functions, such as fraud detection, because it can simultaneously analyze a wide range of factors.\\n\\nDeep learning has excellent promise in business. While older ML algorithms can plateau after capt uring a specific amount of data, deep-learning models continue improving performance as more data is received. They are far more scalable, detailed and independent.\\n\\nDeep learning example:\\n\\nFor self-driving cars to work, several factors must be identified, analyzed and responded to simultaneously. Deep learning algorithms help self-driving cars contextualize information picked up by their sensors, such as the distance of other objects, the speed at which they are moving and a prediction of where they will be in five to 10 seconds. All this information is calculated at once to help a self-driving car make decisions like when to change lanes.\\n\\nHow AI is transforming business\\n\\nAI isn’t a replacement for human intelligence and ingenuity — it’s a supporting tool. While the technology may not be able to complete commonsense tasks in the real world, it is adept at processing and analyzing troves of data much faster than a human brain. AI software can take data and present synthesized courses of action to human users, helping us determine potential consequences and streamline business decision-making.\\n\\n“Artificial intelligence is kind of the second coming of software,” explained Amir Husain, founder of ML company SparkCognition. “It’s a form of software that makes decisions on its own, that’s able to act even in situations not foreseen by the programmers. Artificial intelligence has a wider latitude of decision-making ability [than] traditional software.”\\n\\nAI’s abilities make the technology a valuable business tool, particularly in the following areas:\\n\\nML\\n\\nCybersecurity\\n\\nCustomer relationship management (CRM)\\n\\nInternet and data research\\n\\nDigital personal assistants\\n\\nML\\n\\nIn business, ML is often used in systems that capture vast amounts of data. For example, smart energy management systems collect data from sensors affixed to various assets. The troves of data are then contextualized by ML algorithms and delivered to your company’s decision-makers to understand energy usage and maintenance demands better.\\n\\nDid You Know?\\n\\nML is transforming underwriting in the insurance industry by streamlining risk assessment and fraud detection.\\n\\nCybersecurity\\n\\nAI is an indispensable ally in preventing and avoiding network security threats. AI systems can recognize cyberattacks and cybersecurity threats by monitoring data input patterns. After detecting a threat, it can backtrack through your data to find the source and help prevent future threats. AI is an extra set of diligent, constantly seeking eyes that can significantly bolster your infrastructure.\\n\\n“You really can’t have enough cybersecurity experts to look at these problems because of scale and increasing complexity,” Husain noted. “Artificial intelligence is playing an increasing role here as well.”\\n\\nCRM\\n\\nAI is also changing CRM systems. Typically, CRM software requires significant human intervention to remain current and accurate. However, today’s best CRM software uses AI to transform into self-updating, auto-correcting systems that do much of the background work of managing customer relationships. For example, Hubspot CRM offers AI tools to help draft emails or social media copy and analyze customer profiles and data to support your team.\\n\\nA great example of using AI in CRM can be found in the financial sector. Dr. Hossein Rahnama, founder and CEO of AI concierge company Flybits and visiting professor at the Massachusetts Institute of Technology, worked with TD Bank to integrate AI with regular banking operations.\\n\\n“Using this technology, if you have a mortgage with the bank and it’s up for renewal in 90 days or less … if you’re walking by a branch, you get a personalized message inviting you to go to the branch and renew [your] purchase,” Rahnama explained. “If you’re looking at a property for sale and you spend more than 10 minutes there, it will send you a possible mortgage offer.\\n\\nTip\\n\\nRead our review of Salesforce to learn about this CRM platform's AI-based Einstein GPT technology that uses proprietary AI models and ChatGPT to create automations and personalized AI-generated content.\\n\\nInternet and data research\\n\\nAI is also significantly impacting online data research. It can sift through vast data troves to identify search behavior patterns and provide users with more relevant information. As people use their devices more and AI technology becomes even more advanced, users will have even more customizable experiences. These abilities will help small businesses reach their target customers more efficiently.\\n\\n“We’re no longer expecting the user to constantly be on a search box Googling what they need,” Rahnama noted. “The paradigm is shifting as to how the right information finds the right user at the right time.”\\n\\nDigital personal assistants\\n\\nAI can transform internal business operations through AI chatbots that act as personal assistants, helping to manage emails, maintain calendars and provide recommendations for streamlining processes. Additionally, chatbots can help you grow your business by handling customer inquiries online.\\n\\nBy offloading various tasks to chatbots, you improve customer service while gaining extra time to focus on strategies to grow your business.\\n\\nThe future of AI\\n\\nThe future of AI is potentially limitless. Consider the following paths forward for the technology:\\n\\nAI will handle more everyday tasks: Experts see AI technology continuing to develop to handle more “commonsense” tasks. That means robots will become extremely useful in everyday life.\\n\\nAI will make the impossible possible: “AI is starting to make what was once considered impossible possible, like driverless cars,” explained Russell Glenister, CEO and founder of Curation Zone. “Driverless cars are only a reality because of access to training data and fast GPUs [graphics processing units], which are both key enablers. To train driverless cars, an enormous amount of accurate data is required and speed is key to undertake the training. Five years ago, the processors were too slow, but the introduction of GPUs made it all possible.”\\n\\nAI will revolutionize familiar activities. Dr. Nathan Wilson, co-founder and chief technology officer of Nara Logics, says AI is on the cusp of revolutionizing familiar activities like dining. Wilson predicted that AI could be used by a restaurant to decide which music to play based on the interests of the guests in attendance. AI could even alter the appearance of the wallpaper based on what the technology anticipates the crowd’s aesthetic preferences might be.\\n\\nAI will pave the way for 3D experiences. Rahnama predicts that AI will transform digital technology from the familiar two-dimensional, screen-imprisoned form. “We’ve always relied on a two-dimensional display to play a game or interact with a web page or read an e-book,” Rahnama explained. “What’s going to happen now with artificial intelligence and a combination of [the Internet of Things] is that the display won’t be the main interface ― the environment will be. You’ll see people designing experiences around them, whether it’s in connected buildings or connected boardrooms. These will be 3D experiences you can actually feel.”\\n\\nTip\\n\\nIf interacting with digital overlays in your immediate environment interests you, consider finding a job in augmented reality.\\n\\nWhat does AI mean for workers?\\n\\nAs AI transforms industries, many fear technology and workplace automation will force humans out of work. The jury is still out: Some experts vehemently deny that AI will automate so many jobs that millions of people will be unemployed while others see it as a pressing problem.\\n\\nWhile there is still some debate on how the rise of AI will change the workforce, experts agree there are some trends we can expect to see.\\n\\nAI may affect analyst jobs.\\n\\nRahnama doesn’t foresee wide-ranging lost jobs. “The structure of the workforce is changing, but I don’t think artificial intelligence is essentially replacing jobs,” Rahnama explained. “It allows us to really create a knowledge-based economy and leverage that to create better automation for a better form of life.”\\n\\nHowever, Rahnama does see potential repercussions for analyst-related jobs. “It might be a little bit theoretical, but I think if you have to worry about artificial intelligence and robots replacing our jobs, it’s probably algorithms replacing white-collar jobs, such as business analysts, hedge fund managers and lawyers.”\\n\\nAI may create more jobs.\\n\\nSome experts believe that integrating AI into the workforce will create more jobs — at least in the short term.\\n\\nWilson says the shift toward AI-based systems will likely cause the economy to add jobs facilitating the transition. “Artificial intelligence will create more wealth than it destroys,” Wilson predicted, “but it will not be equitably distributed, especially at first. The changes will be subliminally felt and not overt. A tax accountant won’t one day receive a pink slip and meet the robot that is now going to sit at [their] desk. Rather, the next time the tax accountant applies for a job, it will be a bit harder to find one.”\\n\\nWilson also anticipates that AI in the workplace will fragment long-standing workflows, creating many human jobs to integrate those workflows.\\n\\nAI-created jobs may dwindle eventually.\\n\\nIf AI does affect employment, this transition will take years — if not decades — across different workforce sectors. Still, experts like Husain are worried that once AI becomes ubiquitous, any jobs the technology creates (and existing ones) may start to dwindle.\\n\\nHusain wonders where those workers will go in the long term. “In the past, there were opportunities to move from farming to manufacturing to services. Now, that’s not the case. Why? Industry has been completely robotized and we see that automation makes more sense economically.”\\n\\nHusain pointed to self-driving trucks and AI concierges like Siri and Cortana as examples. He said that as these technologies improve, widespread use could eliminate as many as 8 million jobs in the United States alone.\\n\\n“When all these jobs start going away, we need to ask, ‘What is it that makes us productive? What does productivity mean?'” Husain said. “Now, we’re confronting the changing reality and questioning society’s underlying assumptions. We must really think about this and decide what makes us productive and what is the value of people in society. We need to have this debate and have it quickly because the technology won’t wait for us.”\\n\\nAI may require a shift to more specialized skills.\\n\\nAs AI becomes a more integrated part of the workforce, it’s unlikely that all human jobs will disappear. Instead, many experts have begun to predict that the workforce will become more specialized. These roles will require skills that workplace automation can’t (yet) provide, such as creativity, problem-solving and qualitative skills.\\n\\nAI is the future\\n\\nWhether rosy or rocky, the future is coming quickly and AI will undoubtedly be a part of it. As this technology develops, the world will see new startups, numerous business applications and consumer uses, displacing some jobs and creating entirely new ones. Along with the IOT, AI has the potential to dramatically remake the economy, but its exact impact remains to be seen.\\n\\nNeil Cumins contributed to this article. Source interviews were conducted for a previous version of this article.\\n\\nDid you find this content helpful?\\n\\nThank you for your feedback!\\n\\nShare Article:\\n\\nauthor image\\n\\nWritten by: Adam Uzialko, Senior Editor\\n\\nAdam Uzialko, senior editor of Business News Daily, is not just a professional writer and editor — he’s also an entrepreneur who knows firsthand what it’s like building a business from scratch. His experience as co-founder and managing editor of a digital marketing company imbues his work at Business News Daily with a perspective grounded in the realities of running a small business. At Business News Daily, Adam covers the ins and outs of business technology, such as iPhone credit card processing, POS systems, CRMs and remote-work tools, while also sharing best practices for everyday operations. Since 2015, Adam has also reviewed hundreds of small business products and services, including contact center solutions, email marketing software and text message marketing software. Adam uses the products, interviews users and talks directly to the companies that make the products and services he evaluates. Additionally, he often specializes in digital marketing topics, with a focus on content marketing, editorial strategy and managing a marketing team.\\n\\nEmail\\n\\nLinkedIn\\n\\nRelated Reviews\\n\\nThe Best Phone Systems for Small Businesses\\n\\nthumbnail\\n\\nThe Best Business Accounting Software Services of 2025\\n\\nthumbnail\\n\\nBest Payroll Services for 2025\\n\\nthumbnail\\n\\nMore Related reviews\\n\\nRelated Articles\\n\\nWorkplace Automation Is Everywhere, and It’s Not Just About Robots\\n\\nthumbnail\\n\\nHow to Get a Job in Virtual or Augmented Reality\\n\\nthumbnail\\n\\nHow Businesses Are Collecting Data (And What They’re Doing With It)\\n\\nthumbnail\\n\\nSmall Business Trends and Predictions for 2025\\n\\nthumbnail\\n\\nHow Artificial Intelligence Is Transforming The Insurance Industry\\n\\nthumbnail\\n\\nTechnology Terms Every Entrepreneur Should Know\\n\\nthumbnail\\n\\nMore Related articles\\n\\nRecommended Next\\n\\nWhat Is Predictive Analytics?\\n\\nthumbnail\\n\\nMachine Learning or Automation: What’s the Difference?\\n\\nthumbnail\\n\\nBig data and CRM: How Can They Help Small Businesses?\\n\\nthumbnail\\n\\n10 Tech Trends That Will Influence Your Marketing Strategies\\n\\nthumbnail\\n\\nWhat are Unified Communications Systems?\\n\\nthumbnail\\n\\nMore Related articles\\n\\ninfo@businessnewsdaily.com\\n\\n200 5th Avenue, 2nd Floor\\n\\nWaltham, MA 02451\\n\\nHow to Start a BusinessHow to Market Your BusinessHow to Hire For Your BusinessSelf Employed Tax CalculatorSalary to Hourly Calculator\\n\\nAbout UsCareersAdvertise With UsEditorial Guidelines\\n\\nPrivacy PolicyDo Not Sell My Personal InfoTerms of UseCopyright PolicyAdvertising Disclosure\\n\\nBusiness.comBuyerZone\\n\\n© 2025 business.com\\n\\nAll Rights Reserved.\""
      ]
     },
     "execution_count": 11,
     "metadata": {},
     "output_type": "execute_result"
    }
   ],
   "source": [
    "data_url[0].page_content"
   ]
  },
  {
   "cell_type": "code",
   "execution_count": 12,
   "id": "b154bddb",
   "metadata": {},
   "outputs": [
    {
     "data": {
      "text/plain": [
       "{'source': 'https://www.businessnewsdaily.com/9402-artificial-intelligence-business-trends.html'}"
      ]
     },
     "execution_count": 12,
     "metadata": {},
     "output_type": "execute_result"
    }
   ],
   "source": [
    "data_url[0].metadata"
   ]
  },
  {
   "cell_type": "markdown",
   "id": "5caf16c2",
   "metadata": {},
   "source": [
    "### Text Splitters\n",
    "To split the text into small chunks so that there is no issue with context window size of the llm\n"
   ]
  },
  {
   "cell_type": "markdown",
   "id": "d6b11b34",
   "metadata": {},
   "source": [
    "#### CharacterTextSplitter"
   ]
  },
  {
   "cell_type": "code",
   "execution_count": 18,
   "id": "c7a25635",
   "metadata": {},
   "outputs": [],
   "source": [
    "text = \"\"\"AI’s industry-specific impact\n",
    "China’s approach to AI emphasizes practical applications tailored to the unique needs of various industries.\n",
    "\n",
    "By integrating AI technologies such as digital twins, predictive maintenance and generative AI, industries such as manufacturing, healthcare, transportation, retail and energy are witnessing transformative advancements.\n",
    "\n",
    "These include optimizing production processes, enhancing diagnostics and patient care, enabling autonomous transport systems, personalizing consumer experiences and improving renewable energy management.\n",
    "\n",
    "This sector-focused innovation exemplifies how AI can be applied at scale to drive efficiency, sustainability, and new business and operational models. The emphasis on tailoring AI solutions to specific needs showcases an approach other regions could adopt to maximize impact and overcome barriers to adoption.\n",
    "\"\"\""
   ]
  },
  {
   "cell_type": "code",
   "execution_count": 19,
   "id": "9a19a366",
   "metadata": {},
   "outputs": [],
   "source": [
    "from langchain.text_splitter import CharacterTextSplitter\n",
    "\n",
    "text_splitter = CharacterTextSplitter(\n",
    "    separator = \"\\n\",\n",
    "    chunk_size = 100,\n",
    "    chunk_overlap  = 0,\n",
    "    length_function = len\n",
    ")"
   ]
  },
  {
   "cell_type": "markdown",
   "id": "cbf9b353",
   "metadata": {},
   "source": [
    "#### RecursiveTextSplitter"
   ]
  },
  {
   "cell_type": "code",
   "execution_count": 28,
   "id": "70606068",
   "metadata": {},
   "outputs": [
    {
     "name": "stderr",
     "output_type": "stream",
     "text": [
      "Created a chunk of size 108, which is longer than the specified 100\n",
      "Created a chunk of size 219, which is longer than the specified 100\n",
      "Created a chunk of size 203, which is longer than the specified 100\n"
     ]
    },
    {
     "data": {
      "text/plain": [
       "5"
      ]
     },
     "execution_count": 28,
     "metadata": {},
     "output_type": "execute_result"
    }
   ],
   "source": [
    "chunks = text_splitter.split_text(text)\n",
    "len(chunks)"
   ]
  },
  {
   "cell_type": "code",
   "execution_count": 29,
   "id": "e19ea3fa",
   "metadata": {},
   "outputs": [
    {
     "name": "stdout",
     "output_type": "stream",
     "text": [
      "29\n",
      "108\n",
      "219\n",
      "203\n",
      "310\n"
     ]
    }
   ],
   "source": [
    "for chunk in chunks:\n",
    "    print(len(chunk))\n",
    "\n",
    "# As you can see, we are splitting the text into chunks based on the \\n separator but it is exceeding the chunk size of 100 characters.\n",
    "# So, we can use RecursiveTextSplitter which will split the text into smaller chunks based on the list of separators provided.\n"
   ]
  },
  {
   "cell_type": "markdown",
   "id": "c59aa758",
   "metadata": {},
   "source": [
    "#### RecursiveTextSplitter"
   ]
  },
  {
   "cell_type": "code",
   "execution_count": 30,
   "id": "f4460899",
   "metadata": {},
   "outputs": [],
   "source": [
    "from langchain.text_splitter import RecursiveCharacterTextSplitter\n",
    "\n",
    "text_splitter = RecursiveCharacterTextSplitter(\n",
    "    separators = [\"\\n\\n\", \"\\n\", \".\", \"!\", \"?\", \",\", \" \", \"\"],\n",
    "    chunk_size = 100,\n",
    "    chunk_overlap = 0,\n",
    "    length_function = len\n",
    ")\n",
    "\n"
   ]
  },
  {
   "cell_type": "code",
   "execution_count": 31,
   "id": "b11266cb",
   "metadata": {},
   "outputs": [
    {
     "data": {
      "text/plain": [
       "17"
      ]
     },
     "execution_count": 31,
     "metadata": {},
     "output_type": "execute_result"
    }
   ],
   "source": [
    "chunks = text_splitter.split_text(text)\n",
    "len(chunks)"
   ]
  },
  {
   "cell_type": "code",
   "execution_count": 32,
   "id": "e9dfb138",
   "metadata": {},
   "outputs": [
    {
     "name": "stdout",
     "output_type": "stream",
     "text": [
      "29\n",
      "96\n",
      "10\n",
      "1\n",
      "94\n",
      "62\n",
      "62\n",
      "1\n",
      "85\n",
      "39\n",
      "78\n",
      "1\n",
      "93\n",
      "57\n",
      "100\n",
      "58\n",
      "1\n"
     ]
    }
   ],
   "source": [
    "for chunk in chunks:\n",
    "    print(len(chunk))\n"
   ]
  },
  {
   "cell_type": "code",
   "execution_count": 33,
   "id": "4453f6d2",
   "metadata": {},
   "outputs": [
    {
     "data": {
      "text/plain": [
       "'AI’s industry-specific impact\\nChina’s approach to AI emphasizes practical applications tailored to the unique needs of various industries.'"
      ]
     },
     "execution_count": 33,
     "metadata": {},
     "output_type": "execute_result"
    }
   ],
   "source": [
    "# Understanding how RecursiveCharacterTextSplitter works by playing with different separators \n",
    "first_split = text.split(\"\\n\\n\")[0]\n",
    "first_split"
   ]
  },
  {
   "cell_type": "code",
   "execution_count": 34,
   "id": "893e3413",
   "metadata": {},
   "outputs": [
    {
     "data": {
      "text/plain": [
       "138"
      ]
     },
     "execution_count": 34,
     "metadata": {},
     "output_type": "execute_result"
    }
   ],
   "source": [
    "len(first_split)"
   ]
  },
  {
   "cell_type": "code",
   "execution_count": 35,
   "id": "010aa781",
   "metadata": {},
   "outputs": [
    {
     "data": {
      "text/plain": [
       "'AI’s industry-specific impact'"
      ]
     },
     "execution_count": 35,
     "metadata": {},
     "output_type": "execute_result"
    }
   ],
   "source": [
    "second_split = text.split(\"\\n\")[0]\n",
    "second_split"
   ]
  },
  {
   "cell_type": "code",
   "execution_count": 36,
   "id": "e68443d9",
   "metadata": {},
   "outputs": [
    {
     "data": {
      "text/plain": [
       "29"
      ]
     },
     "execution_count": 36,
     "metadata": {},
     "output_type": "execute_result"
    }
   ],
   "source": [
    "len(second_split)"
   ]
  },
  {
   "cell_type": "markdown",
   "id": "d5bbdaf3",
   "metadata": {},
   "source": [
    "### API Keys"
   ]
  },
  {
   "cell_type": "code",
   "execution_count": 37,
   "id": "c37e91b1",
   "metadata": {},
   "outputs": [],
   "source": [
    "from dotenv import load_dotenv\n",
    "import os\n",
    "load_dotenv()\n",
    "\n",
    "OPENAI_API_KEY = os.getenv(\"OPENAI_API_KEY\")\n",
    "GROQ_API_KEY = os.getenv(\"GROQ_API_KEY\")\n",
    "\n",
    "\n",
    "os.environ[\"OPENAI_API_KEY\"] = OPENAI_API_KEY\n",
    "os.environ[\"GROQ_API_KEY\"] = GROQ_API_KEY\n"
   ]
  },
  {
   "cell_type": "code",
   "execution_count": 38,
   "id": "a366a0b8",
   "metadata": {},
   "outputs": [
    {
     "name": "stdout",
     "output_type": "stream",
     "text": [
      "loading device... {device(type='cuda')}\n"
     ]
    },
    {
     "data": {
      "text/plain": [
       "HuggingFaceEmbeddings(model_name='sentence-transformers/all-MiniLM-L6-v2', cache_folder=None, model_kwargs={}, encode_kwargs={}, query_encode_kwargs={}, multi_process=False, show_progress=False)"
      ]
     },
     "execution_count": 38,
     "metadata": {},
     "output_type": "execute_result"
    }
   ],
   "source": [
    "# embedding\n",
    "from langchain_huggingface import HuggingFaceEmbeddings \n",
    "\n",
    "import torch\n",
    "\n",
    "device = torch.device(\"cuda\" if torch.cuda.is_available else 'cpu')\n",
    "print(f\"loading device...\", {device})\n",
    "\n",
    "def download_hf_embeddings():\n",
    "    model = \"sentence-transformers/all-MiniLM-L6-v2\"\n",
    "    embeddings = HuggingFaceEmbeddings(\n",
    "        model_name = model,\n",
    "        # model_kwargs = {\"device\": device }\n",
    "    )\n",
    "    return embeddings\n",
    "\n",
    "embeddings = download_hf_embeddings()\n",
    "embeddings"
   ]
  },
  {
   "cell_type": "markdown",
   "id": "99a2800f",
   "metadata": {},
   "source": [
    "### Retrieval"
   ]
  },
  {
   "cell_type": "code",
   "execution_count": 75,
   "id": "9788109a",
   "metadata": {},
   "outputs": [
    {
     "data": {
      "text/plain": [
       "55"
      ]
     },
     "execution_count": 75,
     "metadata": {},
     "output_type": "execute_result"
    }
   ],
   "source": [
    "text_splitter = RecursiveCharacterTextSplitter(\n",
    "    chunk_size = 500,\n",
    "    chunk_overlap = 50,\n",
    ")\n",
    "\n",
    "docs = text_splitter.split_documents(data_url)\n",
    "len(docs)"
   ]
  },
  {
   "cell_type": "code",
   "execution_count": 78,
   "id": "6a19dab8",
   "metadata": {},
   "outputs": [
    {
     "data": {
      "text/plain": [
       "Document(metadata={'source': 'https://www.businessnewsdaily.com/9402-artificial-intelligence-business-trends.html'}, page_content='Menu\\n\\nStart\\n\\nOur Recommendations\\n\\nBest Small Business Loans for 2025\\n\\nBusinessloans.com Review\\n\\nBiz2Credit Review\\n\\nSBG Funding Review\\n\\nRapid Finance Review\\n\\nOur Guides\\n\\n30 Great Business Ideas for Motivated Entrepreneurs\\n\\nStartup Costs: How Much Cash Will You Need?\\n\\nHow to Get a Bank Loan for Your Small Business\\n\\nArticles of Incorporation: What New Business Owners Should Know\\n\\nHow to Choose the Best Legal Structure for Your Business\\n\\nSmall Business Resources\\n\\nBusiness Ideas\\n\\nBusiness Plans')"
      ]
     },
     "execution_count": 78,
     "metadata": {},
     "output_type": "execute_result"
    }
   ],
   "source": [
    "docs[0]"
   ]
  },
  {
   "cell_type": "code",
   "execution_count": 79,
   "id": "61be5f89",
   "metadata": {},
   "outputs": [
    {
     "data": {
      "text/plain": [
       "<langchain_community.vectorstores.faiss.FAISS at 0x263c31b71f0>"
      ]
     },
     "execution_count": 79,
     "metadata": {},
     "output_type": "execute_result"
    }
   ],
   "source": [
    "# Create embeddings for these chunks of text and store them in a vector store\n",
    "from langchain.vectorstores import FAISS\n",
    "\n",
    "# create the vector store\n",
    "vector_idx = FAISS.from_documents(docs, embeddings)\n",
    "\n",
    "vector_idx"
   ]
  },
  {
   "cell_type": "code",
   "execution_count": 80,
   "id": "056f1140",
   "metadata": {},
   "outputs": [
    {
     "name": "stdout",
     "output_type": "stream",
     "text": [
      "FAISS index loaded from disk.\n"
     ]
    }
   ],
   "source": [
    "# Save the FAISS index to disk using pickle\n",
    "import pickle\n",
    "import os \n",
    "\n",
    "filepath = \"faiss_index.pkl\"\n",
    "with open(filepath, \"wb\") as f:\n",
    "    pickle.dump(vector_idx, f)\n",
    "\n",
    "\n",
    "if os.path.exists(filepath):\n",
    "    with open(filepath, \"rb\") as f:\n",
    "        vector_idx = pickle.load(f)\n",
    "    print(\"FAISS index loaded from disk.\")"
   ]
  },
  {
   "cell_type": "code",
   "execution_count": 83,
   "id": "216cbc41",
   "metadata": {},
   "outputs": [
    {
     "name": "stdout",
     "output_type": "stream",
     "text": [
      "\u001b[32;1m\u001b[1;3m[chain/start]\u001b[0m \u001b[1m[chain:RetrievalQAWithSourcesChain] Entering Chain run with input:\n",
      "\u001b[0m{\n",
      "  \"question\": \"Who said that Artificial intelligence is kind of the second coming of software\"\n",
      "}\n",
      "\u001b[32;1m\u001b[1;3m[chain/start]\u001b[0m \u001b[1m[chain:RetrievalQAWithSourcesChain > chain:StuffDocumentsChain] Entering Chain run with input:\n",
      "\u001b[0m[inputs]\n",
      "\u001b[32;1m\u001b[1;3m[chain/start]\u001b[0m \u001b[1m[chain:RetrievalQAWithSourcesChain > chain:StuffDocumentsChain > chain:LLMChain] Entering Chain run with input:\n",
      "\u001b[0m{\n",
      "  \"question\": \"Who said that Artificial intelligence is kind of the second coming of software\",\n",
      "  \"summaries\": \"Content: “Artificial intelligence is kind of the second coming of software,” explained Amir Husain, founder of ML company SparkCognition. “It’s a form of software that makes decisions on its own, that’s able to act even in situations not foreseen by the programmers. Artificial intelligence has a wider latitude of decision-making ability [than] traditional software.”\\n\\nAI’s abilities make the technology a valuable business tool, particularly in the following areas:\\n\\nML\\n\\nCybersecurity\\nSource: https://www.businessnewsdaily.com/9402-artificial-intelligence-business-trends.html\\n\\nContent: Table of Contents\\n\\nMany people still associate artificial intelligence (AI) with science-fiction dystopias, but that characterization is waning as the technology develops and becomes more commonplace in our daily lives. Today, AI is a household name — and sometimes even a household presence. Perhaps more importantly, it’s becoming an increasingly crucial business tool with ramifications across multiple industries.\\nSource: https://www.businessnewsdaily.com/9402-artificial-intelligence-business-trends.html\\n\\nContent: AI is the future\\n\\nWhether rosy or rocky, the future is coming quickly and AI will undoubtedly be a part of it. As this technology develops, the world will see new startups, numerous business applications and consumer uses, displacing some jobs and creating entirely new ones. Along with the IOT, AI has the potential to dramatically remake the economy, but its exact impact remains to be seen.\\nSource: https://www.businessnewsdaily.com/9402-artificial-intelligence-business-trends.html\\n\\nContent: We’ll explain more about AI, how it impacts business and why adopting AI technologies is imperative to maintain a competitive edge.\\n\\nWhat is AI?\\n\\nAI is a broad term that refers to computer software that engages in humanlike activities, including learning, planning and problem-solving. Calling specific applications “artificial intelligence” is like calling a car a “vehicle.” It’s technically correct, but it doesn’t cover the specifics.\\nSource: https://www.businessnewsdaily.com/9402-artificial-intelligence-business-trends.html\"\n",
      "}\n",
      "\u001b[32;1m\u001b[1;3m[llm/start]\u001b[0m \u001b[1m[chain:RetrievalQAWithSourcesChain > chain:StuffDocumentsChain > chain:LLMChain > llm:ChatGroq] Entering LLM run with input:\n",
      "\u001b[0m{\n",
      "  \"prompts\": [\n",
      "    \"Human: Given the following extracted parts of a long document and a question, create a final answer with references (\\\"SOURCES\\\"). \\nIf you don't know the answer, just say that you don't know. Don't try to make up an answer.\\nALWAYS return a \\\"SOURCES\\\" part in your answer.\\n\\nQUESTION: Which state/country's law governs the interpretation of the contract?\\n=========\\nContent: This Agreement is governed by English law and the parties submit to the exclusive jurisdiction of the English courts in  relation to any dispute (contractual or non-contractual) concerning this Agreement save that either party may apply to any court for an  injunction or other relief to protect its Intellectual Property Rights.\\nSource: 28-pl\\nContent: No Waiver. Failure or delay in exercising any right or remedy under this Agreement shall not constitute a waiver of such (or any other)  right or remedy.\\n\\n11.7 Severability. The invalidity, illegality or unenforceability of any term (or part of a term) of this Agreement shall not affect the continuation  in force of the remainder of the term (if any) and this Agreement.\\n\\n11.8 No Agency. Except as expressly stated otherwise, nothing in this Agreement shall create an agency, partnership or joint venture of any  kind between the parties.\\n\\n11.9 No Third-Party Beneficiaries.\\nSource: 30-pl\\nContent: (b) if Google believes, in good faith, that the Distributor has violated or caused Google to violate any Anti-Bribery Laws (as  defined in Clause 8.5) or that such a violation is reasonably likely to occur,\\nSource: 4-pl\\n=========\\nFINAL ANSWER: This Agreement is governed by English law.\\nSOURCES: 28-pl\\n\\nQUESTION: What did the president say about Michael Jackson?\\n=========\\nContent: Madam Speaker, Madam Vice President, our First Lady and Second Gentleman. Members of Congress and the Cabinet. Justices of the Supreme Court. My fellow Americans.  \\n\\nLast year COVID-19 kept us apart. This year we are finally together again. \\n\\nTonight, we meet as Democrats Republicans and Independents. But most importantly as Americans. \\n\\nWith a duty to one another to the American people to the Constitution. \\n\\nAnd with an unwavering resolve that freedom will always triumph over tyranny. \\n\\nSix days ago, Russia’s Vladimir Putin sought to shake the foundations of the free world thinking he could make it bend to his menacing ways. But he badly miscalculated. \\n\\nHe thought he could roll into Ukraine and the world would roll over. Instead he met a wall of strength he never imagined. \\n\\nHe met the Ukrainian people. \\n\\nFrom President Zelenskyy to every Ukrainian, their fearlessness, their courage, their determination, inspires the world. \\n\\nGroups of citizens blocking tanks with their bodies. Everyone from students to retirees teachers turned soldiers defending their homeland.\\nSource: 0-pl\\nContent: And we won’t stop. \\n\\nWe have lost so much to COVID-19. Time with one another. And worst of all, so much loss of life. \\n\\nLet’s use this moment to reset. Let’s stop looking at COVID-19 as a partisan dividing line and see it for what it is: A God-awful disease.  \\n\\nLet’s stop seeing each other as enemies, and start seeing each other for who we really are: Fellow Americans.  \\n\\nWe can’t change how divided we’ve been. But we can change how we move forward—on COVID-19 and other issues we must face together. \\n\\nI recently visited the New York City Police Department days after the funerals of Officer Wilbert Mora and his partner, Officer Jason Rivera. \\n\\nThey were responding to a 9-1-1 call when a man shot and killed them with a stolen gun. \\n\\nOfficer Mora was 27 years old. \\n\\nOfficer Rivera was 22. \\n\\nBoth Dominican Americans who’d grown up on the same streets they later chose to patrol as police officers. \\n\\nI spoke with their families and told them that we are forever in debt for their sacrifice, and we will carry on their mission to restore the trust and safety every community deserves.\\nSource: 24-pl\\nContent: And a proud Ukrainian people, who have known 30 years  of independence, have repeatedly shown that they will not tolerate anyone who tries to take their country backwards.  \\n\\nTo all Americans, I will be honest with you, as I’ve always promised. A Russian dictator, invading a foreign country, has costs around the world. \\n\\nAnd I’m taking robust action to make sure the pain of our sanctions  is targeted at Russia’s economy. And I will use every tool at our disposal to protect American businesses and consumers. \\n\\nTonight, I can announce that the United States has worked with 30 other countries to release 60 Million barrels of oil from reserves around the world.  \\n\\nAmerica will lead that effort, releasing 30 Million barrels from our own Strategic Petroleum Reserve. And we stand ready to do more if necessary, unified with our allies.  \\n\\nThese steps will help blunt gas prices here at home. And I know the news about what’s happening can seem alarming. \\n\\nBut I want you to know that we are going to be okay.\\nSource: 5-pl\\nContent: More support for patients and families. \\n\\nTo get there, I call on Congress to fund ARPA-H, the Advanced Research Projects Agency for Health. \\n\\nIt’s based on DARPA—the Defense Department project that led to the Internet, GPS, and so much more.  \\n\\nARPA-H will have a singular purpose—to drive breakthroughs in cancer, Alzheimer’s, diabetes, and more. \\n\\nA unity agenda for the nation. \\n\\nWe can do this. \\n\\nMy fellow Americans—tonight , we have gathered in a sacred space—the citadel of our democracy. \\n\\nIn this Capitol, generation after generation, Americans have debated great questions amid great strife, and have done great things. \\n\\nWe have fought for freedom, expanded liberty, defeated totalitarianism and terror. \\n\\nAnd built the strongest, freest, and most prosperous nation the world has ever known. \\n\\nNow is the hour. \\n\\nOur moment of responsibility. \\n\\nOur test of resolve and conscience, of history itself. \\n\\nIt is in this moment that our character is formed. Our purpose is found. Our future is forged. \\n\\nWell I know this nation.\\nSource: 34-pl\\n=========\\nFINAL ANSWER: The president did not mention Michael Jackson.\\nSOURCES:\\n\\nQUESTION: Who said that Artificial intelligence is kind of the second coming of software\\n=========\\nContent: “Artificial intelligence is kind of the second coming of software,” explained Amir Husain, founder of ML company SparkCognition. “It’s a form of software that makes decisions on its own, that’s able to act even in situations not foreseen by the programmers. Artificial intelligence has a wider latitude of decision-making ability [than] traditional software.”\\n\\nAI’s abilities make the technology a valuable business tool, particularly in the following areas:\\n\\nML\\n\\nCybersecurity\\nSource: https://www.businessnewsdaily.com/9402-artificial-intelligence-business-trends.html\\n\\nContent: Table of Contents\\n\\nMany people still associate artificial intelligence (AI) with science-fiction dystopias, but that characterization is waning as the technology develops and becomes more commonplace in our daily lives. Today, AI is a household name — and sometimes even a household presence. Perhaps more importantly, it’s becoming an increasingly crucial business tool with ramifications across multiple industries.\\nSource: https://www.businessnewsdaily.com/9402-artificial-intelligence-business-trends.html\\n\\nContent: AI is the future\\n\\nWhether rosy or rocky, the future is coming quickly and AI will undoubtedly be a part of it. As this technology develops, the world will see new startups, numerous business applications and consumer uses, displacing some jobs and creating entirely new ones. Along with the IOT, AI has the potential to dramatically remake the economy, but its exact impact remains to be seen.\\nSource: https://www.businessnewsdaily.com/9402-artificial-intelligence-business-trends.html\\n\\nContent: We’ll explain more about AI, how it impacts business and why adopting AI technologies is imperative to maintain a competitive edge.\\n\\nWhat is AI?\\n\\nAI is a broad term that refers to computer software that engages in humanlike activities, including learning, planning and problem-solving. Calling specific applications “artificial intelligence” is like calling a car a “vehicle.” It’s technically correct, but it doesn’t cover the specifics.\\nSource: https://www.businessnewsdaily.com/9402-artificial-intelligence-business-trends.html\\n=========\\nFINAL ANSWER:\"\n",
      "  ]\n",
      "}\n",
      "\u001b[36;1m\u001b[1;3m[llm/end]\u001b[0m \u001b[1m[chain:RetrievalQAWithSourcesChain > chain:StuffDocumentsChain > chain:LLMChain > llm:ChatGroq] [1.26s] Exiting LLM run with output:\n",
      "\u001b[0m{\n",
      "  \"generations\": [\n",
      "    [\n",
      "      {\n",
      "        \"text\": \"Amir Husain, the founder of ML company SparkCognition, said that Artificial intelligence is kind of the second coming of software.\\nSOURCES: https://www.businessnewsdaily.com/9402-artificial-intelligence-business-trends.html\",\n",
      "        \"generation_info\": {\n",
      "          \"finish_reason\": \"stop\",\n",
      "          \"logprobs\": null\n",
      "        },\n",
      "        \"type\": \"ChatGeneration\",\n",
      "        \"message\": {\n",
      "          \"lc\": 1,\n",
      "          \"type\": \"constructor\",\n",
      "          \"id\": [\n",
      "            \"langchain\",\n",
      "            \"schema\",\n",
      "            \"messages\",\n",
      "            \"AIMessage\"\n",
      "          ],\n",
      "          \"kwargs\": {\n",
      "            \"content\": \"Amir Husain, the founder of ML company SparkCognition, said that Artificial intelligence is kind of the second coming of software.\\nSOURCES: https://www.businessnewsdaily.com/9402-artificial-intelligence-business-trends.html\",\n",
      "            \"response_metadata\": {\n",
      "              \"token_usage\": {\n",
      "                \"completion_tokens\": 49,\n",
      "                \"prompt_tokens\": 1811,\n",
      "                \"total_tokens\": 1860,\n",
      "                \"completion_time\": 0.042593823,\n",
      "                \"prompt_time\": 0.172194188,\n",
      "                \"queue_time\": 0.416372907,\n",
      "                \"total_time\": 0.214788011\n",
      "              },\n",
      "              \"model_name\": \"llama-3.1-8b-instant\",\n",
      "              \"system_fingerprint\": \"fp_46fc01befd\",\n",
      "              \"service_tier\": \"on_demand\",\n",
      "              \"finish_reason\": \"stop\",\n",
      "              \"logprobs\": null\n",
      "            },\n",
      "            \"type\": \"ai\",\n",
      "            \"id\": \"run--f866858b-5edc-4e1b-9040-309c49b47984-0\",\n",
      "            \"usage_metadata\": {\n",
      "              \"input_tokens\": 1811,\n",
      "              \"output_tokens\": 49,\n",
      "              \"total_tokens\": 1860\n",
      "            },\n",
      "            \"tool_calls\": [],\n",
      "            \"invalid_tool_calls\": []\n",
      "          }\n",
      "        }\n",
      "      }\n",
      "    ]\n",
      "  ],\n",
      "  \"llm_output\": {\n",
      "    \"token_usage\": {\n",
      "      \"completion_tokens\": 49,\n",
      "      \"prompt_tokens\": 1811,\n",
      "      \"total_tokens\": 1860,\n",
      "      \"completion_time\": 0.042593823,\n",
      "      \"prompt_time\": 0.172194188,\n",
      "      \"queue_time\": 0.416372907,\n",
      "      \"total_time\": 0.214788011\n",
      "    },\n",
      "    \"model_name\": \"llama-3.1-8b-instant\",\n",
      "    \"system_fingerprint\": \"fp_46fc01befd\",\n",
      "    \"service_tier\": \"on_demand\"\n",
      "  },\n",
      "  \"run\": null,\n",
      "  \"type\": \"LLMResult\"\n",
      "}\n",
      "\u001b[36;1m\u001b[1;3m[chain/end]\u001b[0m \u001b[1m[chain:RetrievalQAWithSourcesChain > chain:StuffDocumentsChain > chain:LLMChain] [1.27s] Exiting Chain run with output:\n",
      "\u001b[0m{\n",
      "  \"text\": \"Amir Husain, the founder of ML company SparkCognition, said that Artificial intelligence is kind of the second coming of software.\\nSOURCES: https://www.businessnewsdaily.com/9402-artificial-intelligence-business-trends.html\"\n",
      "}\n",
      "\u001b[36;1m\u001b[1;3m[chain/end]\u001b[0m \u001b[1m[chain:RetrievalQAWithSourcesChain > chain:StuffDocumentsChain] [1.27s] Exiting Chain run with output:\n",
      "\u001b[0m{\n",
      "  \"output_text\": \"Amir Husain, the founder of ML company SparkCognition, said that Artificial intelligence is kind of the second coming of software.\\nSOURCES: https://www.businessnewsdaily.com/9402-artificial-intelligence-business-trends.html\"\n",
      "}\n",
      "\u001b[36;1m\u001b[1;3m[chain/end]\u001b[0m \u001b[1m[chain:RetrievalQAWithSourcesChain] [1.32s] Exiting Chain run with output:\n",
      "\u001b[0m{\n",
      "  \"answer\": \"Amir Husain, the founder of ML company SparkCognition, said that Artificial intelligence is kind of the second coming of software.\\n\",\n",
      "  \"sources\": \"https://www.businessnewsdaily.com/9402-artificial-intelligence-business-trends.html\"\n",
      "}\n"
     ]
    },
    {
     "data": {
      "text/plain": [
       "{'answer': 'Amir Husain, the founder of ML company SparkCognition, said that Artificial intelligence is kind of the second coming of software.\\n',\n",
       " 'sources': 'https://www.businessnewsdaily.com/9402-artificial-intelligence-business-trends.html'}"
      ]
     },
     "execution_count": 83,
     "metadata": {},
     "output_type": "execute_result"
    }
   ],
   "source": [
    "# Now, we can use this vector store to perform similarity search and retrieve relevant documents based on a query.\n",
    "\n",
    "import langchain\n",
    "from langchain_groq import ChatGroq\n",
    "from langchain.chains import RetrievalQAWithSourcesChain\n",
    "\n",
    "# chat_model = ChatOpenAI(model=\"gpt-3.5-turbo\")\n",
    "llama_chat_model = ChatGroq(\n",
    "    model=\"llama-3.1-8b-instant\", temperature=0.0, max_tokens=500, api_key=GROQ_API_KEY\n",
    ")\n",
    "\n",
    "chain = RetrievalQAWithSourcesChain.from_chain_type(\n",
    "    llm=llama_chat_model,\n",
    "    retriever=vector_idx.as_retriever()\n",
    ")\n",
    "\n",
    "# query = \"How AI is transforming business\"\n",
    "query = \"Who said that Artificial intelligence is kind of the second coming of software\"\n",
    "\n",
    "langchain.debug = True\n",
    "\n",
    "chain({\"question\": query}, return_only_outputs=True)\n"
   ]
  },
  {
   "cell_type": "code",
   "execution_count": null,
   "id": "66e626dc",
   "metadata": {},
   "outputs": [],
   "source": []
  }
 ],
 "metadata": {
  "kernelspec": {
   "display_name": "medchatbot",
   "language": "python",
   "name": "python3"
  },
  "language_info": {
   "codemirror_mode": {
    "name": "ipython",
    "version": 3
   },
   "file_extension": ".py",
   "mimetype": "text/x-python",
   "name": "python",
   "nbconvert_exporter": "python",
   "pygments_lexer": "ipython3",
   "version": "3.10.18"
  }
 },
 "nbformat": 4,
 "nbformat_minor": 5
}
