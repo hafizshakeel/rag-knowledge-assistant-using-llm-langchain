{
 "cells": [
  {
   "cell_type": "markdown",
   "id": "3aac6a3d",
   "metadata": {},
   "source": [
    "## Tavily - Real‑time search engine for AI agents and RAG workflows "
   ]
  },
  {
   "cell_type": "markdown",
   "id": "e5edde5f",
   "metadata": {},
   "source": []
  },
  {
   "cell_type": "code",
   "execution_count": 97,
   "id": "107cc069",
   "metadata": {},
   "outputs": [],
   "source": [
    "from dotenv import load_dotenv\n",
    "import os\n",
    "load_dotenv()\n",
    "\n",
    "OPENAI_API_KEY = os.getenv(\"OPENAI_API_KEY\")\n",
    "GROQ_API_KEY = os.getenv(\"GROQ_API_KEY\")\n",
    "TAVILY_API_KEY = os.getenv(\"TAVILY_API_KEY\")\n",
    "\n",
    "\n",
    "os.environ[\"OPENAI_API_KEY\"] = OPENAI_API_KEY\n",
    "os.environ[\"GROQ_API_KEY\"] = GROQ_API_KEY\n",
    "os.environ[\"TAVILY_API_KEY\"]= TAVILY_API_KEY"
   ]
  },
  {
   "cell_type": "code",
   "execution_count": 98,
   "id": "b42ef30c",
   "metadata": {},
   "outputs": [],
   "source": [
    "\n",
    "from langchain.chat_models import init_chat_model\n",
    "llama_chat_model = init_chat_model(\"llama3-8b-8192\", model_provider=\"groq\", temperature=0, max_tokens=200)"
   ]
  },
  {
   "cell_type": "code",
   "execution_count": 99,
   "id": "8846ea15",
   "metadata": {},
   "outputs": [],
   "source": [
    "import langchain_tavily\n",
    "# dir(langchain_tavily)\n"
   ]
  },
  {
   "cell_type": "code",
   "execution_count": 100,
   "id": "61a90226",
   "metadata": {},
   "outputs": [],
   "source": [
    "from langchain_tavily import TavilySearch\n",
    "from langgraph.prebuilt import create_react_agent\n",
    "from langchain_core.prompts import ChatPromptTemplate, MessagesPlaceholder\n",
    "\n",
    "tavily_search_tool = TavilySearch(max_results=2)\n",
    "\n",
    "tools = [tavily_search_tool]\n",
    "\n"
   ]
  },
  {
   "cell_type": "code",
   "execution_count": 101,
   "id": "11fe8aa3",
   "metadata": {},
   "outputs": [
    {
     "data": {
      "text/plain": [
       "[TavilySearch(max_results=2, api_wrapper=TavilySearchAPIWrapper(tavily_api_key=SecretStr('**********'), api_base_url=None))]"
      ]
     },
     "execution_count": 101,
     "metadata": {},
     "output_type": "execute_result"
    }
   ],
   "source": [
    "tools"
   ]
  },
  {
   "cell_type": "code",
   "execution_count": 102,
   "id": "0a8e9f2a",
   "metadata": {},
   "outputs": [
    {
     "name": "stdout",
     "output_type": "stream",
     "text": [
      "================================\u001b[1m Human Message \u001b[0m=================================\n",
      "\n",
      "What are the latest advancements in AI technology as of August 2025?\n",
      "==================================\u001b[1m Ai Message \u001b[0m==================================\n",
      "Tool Calls:\n",
      "  tavily_search (e1pe1kvkx)\n",
      " Call ID: e1pe1kvkx\n",
      "  Args:\n",
      "    end_date: 2025-08-01\n",
      "    query: latest advancements in AI technology\n",
      "    search_depth: advanced\n",
      "    start_date: 2024-08-01\n",
      "    topic: general\n",
      "=================================\u001b[1m Tool Message \u001b[0m=================================\n",
      "Name: tavily_search\n",
      "\n",
      "{\"query\": \"latest advancements in AI technology\", \"follow_up_questions\": null, \"answer\": null, \"images\": [], \"results\": [{\"url\": \"https://ep.jhu.edu/news/advancements-in-ai-and-machine-learning/\", \"title\": \"Advancements in AI and Machine Learning\", \"content\": \"Today, AI has been seamlessly integrated into everyday life. Advances in ML, natural language processing (NLP), and computer vision have enabled AI to perform ever-more complex tasks such as diagnosing medical conditions, powering autonomous vehicles, and personalizing user experiences in digital platforms.\\n\\nAs AI’s evolution continues, we can expect it to further revolutionize the world through even greater efficiency and new avenues for technological development. [...] AI algorithms process vast datasets to provide insights that support strategic planning and resource allocation to streamline decision-making. This allows engineers to focus more on innovation and complex problem-solving.\\n\\n## Recent Advancements in AI and Machine Learning\\n\\nThe advancements in AI and ML have exponentially enhanced applications across multiple sectors. Here’s how AI and ML have changed various industries.\\n\\n### Breakthroughs in Generative AI and Large Language Models [...] ## Why AI Advancements Matter for Engineers\\n\\nAI and ML advancements are transforming engineering by automating complex tasks and enhancing decision-making processes for professionals. Among other things, AI-driven tools let design engineers optimize time-sensitive solutions more rapidly. AI also allows for more robust predictive maintenance by analyzing data to foresee equipment failures, thereby reducing downtime and operational costs.\", \"score\": 0.74363416, \"raw_content\": null}, {\"url\": \"https://www.crescendo.ai/news/latest-ai-news-and-updates\", \"title\": \"Latest AI Breakthroughs and News: June, July, August 2025\", \"content\": \"Summary: OpenAI and SoftBank are planning to build a small data center by the end of 2025 to support the Stargate AI initiative . The project aims to explore more energy-efficient AI infrastructure at localized scales. Sources suggest this could serve as a pilot for SoftBank's larger $1 trillion “Crystal Land” AI hub.\", \"score\": 0.52144736, \"raw_content\": null}], \"response_time\": 3.27, \"request_id\": \"b7e201db-416f-438c-a7e7-e4470e526cc4\"}\n",
      "==================================\u001b[1m Ai Message \u001b[0m==================================\n",
      "\n",
      "Based on the results from the tool call, here's a summary of the latest advancements in AI technology as of August 2025:\n",
      "\n",
      "Advances in AI and machine learning have led to the integration of AI into everyday life, enabling complex tasks such as diagnosing medical conditions, powering autonomous vehicles, and personalizing user experiences. Recent breakthroughs in generative AI and large language models have exponentially enhanced applications across various sectors.\n",
      "\n",
      "Some notable advancements include:\n",
      "\n",
      "1. **Generative AI and Large Language Models**: These advancements have enabled AI to perform complex tasks such as generating human-like text, images, and music.\n",
      "2. **AI-driven Design Optimization**: AI-driven tools allow design engineers to optimize time-sensitive solutions more rapidly, reducing the time and cost associated with design iterations.\n",
      "3. **Predictive Maintenance**: AI-driven predictive maintenance allows for more robust analysis of data to foresee equipment failures, reducing downtime and operational costs.\n",
      "4. **Energy-Efficient AI Infrastructure**: SoftBank and OpenAI are planning to\n"
     ]
    }
   ],
   "source": [
    "\n",
    "agent = create_react_agent(llama_chat_model, [tavily_search_tool])\n",
    "\n",
    "user_input = \"What are the latest advancements in AI technology as of August 2025?\"\n",
    "\n",
    "for step in agent.stream(\n",
    "    {\"messages\": user_input},\n",
    "    stream_mode=\"values\",\n",
    "):\n",
    "    step[\"messages\"][-1].pretty_print()"
   ]
  },
  {
   "cell_type": "code",
   "execution_count": 103,
   "id": "23aed9d0",
   "metadata": {},
   "outputs": [],
   "source": [
    "import langgraph\n",
    "# dir(langgraph)"
   ]
  },
  {
   "cell_type": "markdown",
   "id": "14ae6f43",
   "metadata": {},
   "source": [
    "### Memory"
   ]
  },
  {
   "cell_type": "code",
   "execution_count": 105,
   "id": "a994e479",
   "metadata": {},
   "outputs": [
    {
     "name": "stdout",
     "output_type": "stream",
     "text": [
      "================================\u001b[1m Human Message \u001b[0m=================================\n",
      "\n",
      "Tell me about the latest in AI in August 2025. Respond in concise points.\n",
      "==================================\u001b[1m Ai Message \u001b[0m==================================\n",
      "Tool Calls:\n",
      "  tavily_search (8bkv021qs)\n",
      " Call ID: 8bkv021qs\n",
      "  Args:\n",
      "    query: latest AI in August 2025\n",
      "    search_depth: advanced\n",
      "    time_range: month\n",
      "    topic: general\n",
      "=================================\u001b[1m Tool Message \u001b[0m=================================\n",
      "Name: tavily_search\n",
      "\n",
      "{\"query\": \"latest AI in August 2025\", \"follow_up_questions\": null, \"answer\": null, \"images\": [], \"results\": [{\"url\": \"https://etcjournal.com/2025/08/13/three-biggest-ai-stories-in-august-2025/\", \"title\": \"Three Biggest AI Stories in August 2025\", \"content\": \"The unveiling of GPT-5 by OpenAI on August 7, 2025, set a new benchmark for generative AI. GPT-5 introduces a step-change in technical capabilities, especially in reasoning and multi-modal understanding. Its ability to integrate text, image, and voice processing in a unified model marks a significant evolution from previous generations. Benchmarks suggest a 40% improvement over GPT-4 in handling complex reasoning tasks, from scientific problem-solving to autonomous coding and data analysis. [...] August 2025 witnessed a pivotal milestone in scientific automation when researchers at Stanford University, alongside the Chan Zuckerberg Biohub, successfully demonstrated autonomous multi-agent AI labs. Here, expert AI agents—including Principal Investigator bots, specialized researchers, and critics—collaborated independently to conceive and validate new COVID-19 nanobodies with minimal human input. movetheneedle [...] JimS's avatar\\nHarryKeller's avatar\\nJimS's avatar\\nCamie's avatar\\nUnknown's avatar\\nHarryKeller's avatar\\nJimS's avatar\\nHarryKeller's avatar\\nJimS's avatar\\nHarryKeller's avatar\\nJimS's avatar\\n\\n## To Comment\\n\\n## Archives\\n\\n## Categories\\n\\n## Three Biggest AI Stories in August 2025\\n\\nBy Jim Shimabukuro (assisted by Perplexity)  \\nEditor\\n\\n## 1. OpenAI Launches GPT-5: A New Era in AI Reasoning\", \"score\": 0.90692574, \"raw_content\": null}, {\"url\": \"https://medium.com/@tam.tamanna18/must-know-ai-updates-august-2025-47a509c55076\", \"title\": \"Must-Know AI Updates August 2025\", \"content\": \"Hey there, AI enthusiasts! If you’ve been following tech news, you know August 2025 has been a whirlwind. From OpenAI dropping bombshells like GPT-5 and open-weight models to Google unveiling mind-bending world simulators, this week (around August 5-7) has been hailed as the biggest in AI history. We’re talking breakthroughs in coding, interactive environments, image and video generation, music creation, and more. Drawing from the latest announcements and hands-on insights. Let’s dive into what\", \"score\": 0.9065293, \"raw_content\": null}], \"response_time\": 2.87, \"request_id\": \"509753a0-712f-461a-9f08-028640cf7df2\"}\n",
      "==================================\u001b[1m Ai Message \u001b[0m==================================\n",
      "\n",
      "Based on the tool call result, here are the latest AI updates in August 2025 in concise points:\n",
      "\n",
      "* OpenAI launched GPT-5, a new era in AI reasoning, with a 40% improvement over GPT-4 in handling complex reasoning tasks.\n",
      "* Researchers at Stanford University and the Chan Zuckerberg Biohub demonstrated autonomous multi-agent AI labs, achieving significant advancements in scientific automation.\n",
      "* GPT-5 introduces a step-change in technical capabilities, especially in reasoning and multi-modal understanding, integrating text, image, and voice processing in a unified model.\n",
      "* Other notable AI updates in August 2025 include breakthroughs in coding, interactive environments, image and video generation, music creation, and more.\n",
      "\n",
      "Note: These points are based on the provided tool call result and may not be an exhaustive summary of all AI updates in August 2025.\n"
     ]
    }
   ],
   "source": [
    "from langgraph.checkpoint.memory import MemorySaver\n",
    "\n",
    "# Checkpointer = memory\n",
    "checkpointer = MemorySaver()\n",
    "\n",
    "# Agent with memory (via checkpointer)\n",
    "agent = create_react_agent(llama_chat_model, tools, checkpointer=checkpointer)\n",
    "\n",
    "# Run multiple turns\n",
    "config = {\"configurable\": {\"thread_id\": \"user-123\"}}  # unique id per conversation\n",
    "\n",
    "for step in agent.stream(\n",
    "    {\"messages\": \"Tell me about the latest in AI in August 2025. Respond in concise points.\"},\n",
    "    stream_mode=\"values\",\n",
    "    config=config,\n",
    "):\n",
    "    step[\"messages\"][-1].pretty_print()\n"
   ]
  },
  {
   "cell_type": "code",
   "execution_count": null,
   "id": "797d8091",
   "metadata": {},
   "outputs": [
    {
     "name": "stdout",
     "output_type": "stream",
     "text": [
      "================================\u001b[1m Human Message \u001b[0m=================================\n",
      "\n",
      "Can you summarize what we discussed earlier?\n",
      "==================================\u001b[1m Ai Message \u001b[0m==================================\n",
      "\n",
      "We discussed the topic \"latest in AI in August 2025\" and I provided a response using a tool call to retrieve relevant information. The tool call yielded a result with three AI stories, including the unveiling of GPT-5 by OpenAI and the demonstration of autonomous multi-agent AI labs by researchers at Stanford University and the Chan Zuckerberg Biohub. I then summarized the key points from the tool call result in concise points.\n"
     ]
    }
   ],
   "source": [
    "for step in agent.stream(\n",
    "    {\"messages\": \"Can you summarize what we discussed earlier?\"},\n",
    "    stream_mode=\"values\",\n",
    "    config={\"configurable\": {\"thread_id\": \"user-123\"}},  # thread_id\n",
    "):\n",
    "    step[\"messages\"][-1].pretty_print()\n"
   ]
  },
  {
   "cell_type": "code",
   "execution_count": null,
   "id": "85e96a74",
   "metadata": {},
   "outputs": [],
   "source": []
  },
  {
   "cell_type": "code",
   "execution_count": null,
   "id": "115a8082",
   "metadata": {},
   "outputs": [],
   "source": []
  }
 ],
 "metadata": {
  "kernelspec": {
   "display_name": "medchatbot",
   "language": "python",
   "name": "python3"
  },
  "language_info": {
   "codemirror_mode": {
    "name": "ipython",
    "version": 3
   },
   "file_extension": ".py",
   "mimetype": "text/x-python",
   "name": "python",
   "nbconvert_exporter": "python",
   "pygments_lexer": "ipython3",
   "version": "3.10.18"
  }
 },
 "nbformat": 4,
 "nbformat_minor": 5
}
